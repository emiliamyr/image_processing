{
  "cells": [
    {
      "cell_type": "markdown",
      "metadata": {
        "pycharm": {
          "name": "#%% md\n"
        },
        "id": "rZYaNyD2FpiL"
      },
      "source": [
        "# Filtracja bilateralna"
      ]
    },
    {
      "cell_type": "markdown",
      "source": [],
      "metadata": {
        "id": "GgH3xBf_GZAi"
      }
    },
    {
      "cell_type": "markdown",
      "source": [
        "## Konwolucja obrazu z filtrem o zadanych współczynnikach\n",
        "\n",
        "Splot (konwolucję) obrazu wejściowego $I$ z filtrem $\\psi$ dla ustalonego punktu obrazu $\\mathbf{x}$ można przedstawić następująco:\n",
        "\n",
        "\\begin{equation}\n",
        "\\hat{I}(\\mathbf{x}) = \\frac{1}{W_N}\\sum_{\\mathbf{p} \\in \\eta(\\mathbf{x})} \\psi(||\\mathbf{p}-\\mathbf{x}||)I(\\mathbf{p})\n",
        "\\end{equation}\n",
        "\n",
        "gdzie:\n",
        "- $\\hat{I}$ jest obrazem wynikowym (przefiltrowanym),\n",
        "- $W_N = \\sum_y \\psi(y)$ jest parametrem normalizującym współczynniki filtra $\\psi$,\n",
        "- $||\\cdot||$ jest odległością między punktami obrazu $\\mathbf{x}$ i $\\mathbf{p}$ według ustalonej metryki (np. norma $L_2$). Uwaga, proszę pamiętać, że zarówno $\\mathbf{x}$, jak i $\\mathbf{p}$ to współrzędne przestrzenne,\n",
        "- $\\eta(\\mathbf{x})$ jest otoczeniem punktu $\\mathbf{x}$.\n",
        "\n",
        "Funkcja $\\psi$ decyduje o charakterze filtracji. Dla filtru Gaussowskiego:\n",
        "\n",
        "\\begin{equation}\n",
        "\\psi(y) = G_{\\delta_s}(y)\n",
        "\\end{equation}\n",
        "\n",
        "gdzie: $G_{\\delta_s}(y)$ jest funkcją Gaussa z parametrem skali $\\delta_s$.\n",
        "\n",
        "Opisaną powyżej filtrację realizowaliśmy w ramach ćwiczenia \"Przetwarzanie wstępne. Filtracja kontekstowa.\""
      ],
      "metadata": {
        "collapsed": false,
        "pycharm": {
          "name": "#%% md\n"
        },
        "id": "dLH690bzFpiS"
      }
    },
    {
      "cell_type": "markdown",
      "source": [
        "## Filtracja bilateralna\n",
        "\n",
        "Wadą klasycznego splotu jest brak adaptacji współczynników filtra do lokalnego otoczenia $\\eta(\\mathbf{x})$ filtrowanego punktu $\\mathbf{x}$.\n",
        "Oznacza to wykorzystanie tych samych współczynników filtra $\\psi$ niezależnie od tego czy otoczenie jest względnie jednorodne lub zawiera krawędzie obiektów (w tym przypadku dochodzi do \"rozmywania\" krawędzi).\n",
        "Filtracja bilateralna uwzględnia lokalne otoczenie filtrowanego punktu, w ten sposób, że parametry filtra zmieniają się w zależności od \"wyglądu\" otocznia.\n",
        "\n",
        "\n",
        "Współczynniki filtra obliczane są na podstawie odległości filtrowanego punktu $\\mathbf{x}$ od każdego punktu otoczenia $\\mathbf{p}$ w dziedzinie przestrzennej obrazu (tak jak przy typowym filtrze np. Gaussa) oraz odległości punktów w przeciwdziedzinie obrazu (np. na podstawie różnicy w jasności pikseli dla obrazu w odcieniach szarości):\n",
        "\n",
        "\\begin{equation}\n",
        "\\hat{I}(\\mathbf{x}) = \\frac{1}{W_N}\\sum_{\\mathbf{p} \\in \\eta(\\mathbf{x})} \\psi(||\\mathbf{p}-\\mathbf{x}||) \\gamma(|I(\\mathbf{p}) - I(\\mathbf{x})|) I(\\mathbf{p})\n",
        "\\end{equation}\n",
        "gdzie:\n",
        "- $W_N$ jest współczynnikiem normalizującym filtr,\n",
        "- $\\gamma$ jest funkcją odległości w przeciwdziedzinie obrazu, np. $\\gamma(y)=\\exp(-\\frac{y^2}{2\\delta_r^2})$\n",
        "- parametr $\\delta_r$ jest utożsamiany z poziomem szumu w obrazie i należy go dobrać w sposób empiryczny.\n",
        "\n",
        "Proszę chwilę zastanowić się nad powyższym równaniem, w szczególności nad funkcją $\\gamma$. Proszę wyznaczyć, jaka będzie wartość funkcji dla pikseli podobnych (różnica 0, 1, 2), a skrajnie różnych (255, 200).\n",
        "\n",
        "##  Realizacja ćwiczenia\n",
        "\n",
        "### Wczytanie danych\n",
        "\n",
        "1. Wczytaj dane z pliku *MR_data.mat*. W tym celu wykorzystaj funkcję `loadmat` z pakietu scipy:\n",
        "        from scipy.io import loadmat\n",
        "        mat = loadmat('MR_data.mat')\n",
        "\n",
        "2. Wczytany plik zawiera 5 obrazów: *I_noisefree*, *I_noisy1*, *I_noisy2*, *I_noisy3* oraz *I_noisy4*. Odczytać je można w następujący sposób:\n",
        "        Input = mat['I_noisy1']\n",
        "\n",
        "3.Wyświetl wybrany obraz z pliku *MR_data.mat*. Zagadka - co to za obrazowanie medyczne?"
      ],
      "metadata": {
        "collapsed": false,
        "pycharm": {
          "name": "#%% md\n"
        },
        "id": "y-c-Phd8FpiU"
      }
    },
    {
      "cell_type": "code",
      "execution_count": null,
      "outputs": [],
      "source": [
        "import cv2\n",
        "import os\n",
        "import requests\n",
        "from matplotlib import pyplot as plt\n",
        "import numpy as np\n",
        "from scipy import signal\n",
        "from scipy.io import loadmat\n",
        "import math\n",
        "\n",
        "url = 'https://raw.githubusercontent.com/vision-agh/poc_sw/master/07_Bilateral/'\n",
        "\n",
        "fileNames = [\"MR_data.mat\"]\n",
        "for fileName in fileNames:\n",
        "  if not os.path.exists(fileName):\n",
        "      r = requests.get(url + fileName, allow_redirects=True)\n",
        "      open(fileName, 'wb').write(r.content)\n",
        "\n",
        "#TODO Samodzielna\n",
        "mat = loadmat('MR_data.mat')\n",
        "Input = mat['I_noisy1']\n",
        "\n",
        "plt.imshow(Input, 'gray')\n",
        "plt.axis('off')\n",
        "plt.show()\n",
        "\n",
        "#MRI"
      ],
      "metadata": {
        "pycharm": {
          "name": "#%% Zadanie 1 - wyświetlanie\n"
        },
        "id": "hvi5AJiGFpiV"
      }
    },
    {
      "cell_type": "markdown",
      "source": [
        "### \"Klasyczna\" konwolucja\n",
        "\n",
        "1. Zdefiniuj parametry filtra Gaussowskiego: rozmiar okna i wariancję $\\delta_S$.\n",
        "2. Oblicz współczynniki filtra na podstawie zdefiniowanych parametrów (najprościej w ramach podwójnej pętli for).\n",
        "2. Sprawdź ich poprawność i zwizualizuj filtr (tak jak w ćwiczeniu pt. \"Przetwarzanie wstępne. Filtracja kontekstowa.\").\n",
        "3. Wykonaj kopię obrazu wejściowego: `IConv = Input.copy()`\n",
        "4. Wykonaj podwójną pętlę po obrazie. Pomiń ramkę, dla której nie jest zdefiniowany kontekst o wybranej wielkości.\n",
        "5. W każdej iteracji stwórz dwuwymiarową tablicę zawierającą aktualny kontekst.\n",
        "6. Napisz funkcję, która będzie obliczała nową wartość piksela.\n",
        "Argumentem tej funkcji są aktualnie przetwarzane okno i współczynniki filtra.\n",
        "7. Obliczoną wartość przypisz do odpowiedniego piksela kopii obrazu wejściowego.\n",
        "8. Wyświetl wynik filtracji.\n",
        "9. Porównaj wynik z obrazem oryginalnym."
      ],
      "metadata": {
        "collapsed": false,
        "pycharm": {
          "name": "#%% md\n"
        },
        "id": "b2dsan_AFpiX"
      }
    },
    {
      "cell_type": "code",
      "execution_count": null,
      "outputs": [],
      "source": [
        "import numpy as np\n",
        "import matplotlib.pyplot as plt\n",
        "\n",
        "window_size = 15\n",
        "delta_s = 0.8\n",
        "\n",
        "#wspolczynniki\n",
        "def compute_gaussian_filter(size, sigma):\n",
        "    kernel = np.zeros((size, size), dtype=np.float32)\n",
        "    offset = size // 2\n",
        "\n",
        "    for i in range(size):\n",
        "        for j in range(size):\n",
        "            x = i - offset\n",
        "            y = j - offset\n",
        "            kernel[i, j] = np.exp(-(x**2 + y**2) / (2 * sigma**2)) / (2 * np.pi * sigma**2)\n",
        "    return kernel / np.sum(kernel)\n",
        "\n",
        "def fgaussian(size, sigma):\n",
        "    m = n = size\n",
        "    h, k = m//2, n//2\n",
        "    x, y = np.mgrid[-h:h+1, -k:k+1]\n",
        "    g = np.exp(-(x**2 + y**2)/(2*sigma**2))\n",
        "    return g /g.sum()\n",
        "\n",
        "\n",
        "def mesh(fun, size):\n",
        "    fig = plt.figure()\n",
        "    ax = fig.add_subplot(projection = '3d')\n",
        "\n",
        "\n",
        "    X = np.arange(-size//2, size//2, 1)\n",
        "    Y = np.arange(-size//2, size//2, 1)\n",
        "    X, Y = np.meshgrid(X, Y)\n",
        "    Z = fun\n",
        "\n",
        "    ax.plot_surface(X, Y, Z)\n",
        "\n",
        "    plt.show()\n",
        "\n",
        "\n",
        "#print(compute_gaussian_filter(window_size, delta_s))\n",
        "#print(fgaussian(window_size, delta_s))\n",
        "\n",
        "\n",
        "mesh(fgaussian(window_size, delta_s),window_size)\n",
        "mesh(compute_gaussian_filter(window_size, delta_s),window_size)"
      ],
      "metadata": {
        "pycharm": {
          "name": "#%% Zadanie 2 - konwolucja\n"
        },
        "id": "EL5qWflAFpiY"
      }
    },
    {
      "cell_type": "code",
      "source": [
        "IConv = Input.copy()\n",
        "X,Y = IConv.shape\n",
        "\n",
        "contexts = []\n",
        "\n",
        "for x in range(window_size//2, X - window_size//2):\n",
        "  for y in range(window_size//2, Y - window_size//2):\n",
        "    current_context = IConv[x-window_size//2:x+window_size//2, y-window_size//2: y+window_size//2]\n",
        "    contexts.append(current_context)\n",
        "\n",
        "print(contexts[0])"
      ],
      "metadata": {
        "id": "ucQ0gBLABkkS"
      },
      "execution_count": null,
      "outputs": []
    },
    {
      "cell_type": "code",
      "source": [
        "def gaussian_convolution(context, window_size, delta_s):\n",
        "    X, Y = context.shape\n",
        "    gauss = compute_gaussian_filter(window_size, delta_s)\n",
        "    output = 0\n",
        "    for i in range(X):\n",
        "        for j in range(Y):\n",
        "            output += gauss[i, j] * context[i, j]\n",
        "    return 1 / gauss.sum() * output"
      ],
      "metadata": {
        "id": "lM241FQgSYDb"
      },
      "execution_count": null,
      "outputs": []
    },
    {
      "cell_type": "code",
      "source": [
        "def gaussian_blur(image, window_size, delta_s):\n",
        "  X,Y = image.shape\n",
        "\n",
        "  new_image = image.copy()\n",
        "\n",
        "  for x in range(window_size//2, X - window_size//2):\n",
        "    for y in range(window_size//2, Y - window_size//2):\n",
        "      current_context = image[x-window_size//2:x+window_size//2, y-window_size//2: y+window_size//2]\n",
        "      new_image[x,y] = gaussian_convolution(current_context, window_size, delta_s)\n",
        "\n",
        "  return new_image"
      ],
      "metadata": {
        "id": "CBb_17_rSOt4"
      },
      "execution_count": null,
      "outputs": []
    },
    {
      "cell_type": "code",
      "source": [
        "window_size = 5\n",
        "delta_s = 1\n",
        "\n",
        "\n",
        "f,axs=plt.subplots(1,2,figsize=(20,10))\n",
        "axs[0].imshow(Input,'gray')\n",
        "axs[0].set_title('Obraz oryginalny')\n",
        "axs[1].imshow(gaussian_blur(Input, window_size, delta_s),'gray')\n",
        "axs[1].set_title('Obraz po filtracji')\n",
        "for ax in axs:\n",
        "  ax.axis('off')"
      ],
      "metadata": {
        "id": "ux8EqbdHCVer"
      },
      "execution_count": null,
      "outputs": []
    },
    {
      "cell_type": "markdown",
      "source": [
        "### Filtracja bilateralna\n",
        "\n",
        "1. Zdefiniuj dodatkowy parametr: wariancję $\\delta_R$.\n",
        "3. Wykonaj kopię obrazu wejściowego: `IBilateral = Input.copy()`\n",
        "4. Wykonaj podwójną pętlę po obrazie. Pomiń ramkę, dla której nie jest zdefiniowany kontekst o wybranej wielkości.\n",
        "5. W każdej iteracji stwórz dwuwymiarową tablicę zawierającą aktualny kontekst.\n",
        "6. Napisz funkcję, która będzie obliczała nową wartość piksela.\n",
        "Argumentami funkcji są aktualnie przetwarzane okno, współczynniki filtra gausowskiego (takie same jak wcześniej) i wariancja $\\delta_R$.\n",
        "7. Oblicz odległość w przeciwdziedzinie (dla wartości pikseli).\n",
        "8. Oblicz funkcję Gaussa dla obliczonych odległości z zadanym parametrem.\n",
        "9. Wykonaj normalizację obliczonych współczynników.\n",
        "10. Obliczoną wartość przypisz do odpowiedniego piksela kopii obrazu wejściowego.\n",
        "11. Wyświetl wynik filtracji.\n",
        "12. Porównaj wynik z obrazem oryginalnym."
      ],
      "metadata": {
        "collapsed": false,
        "pycharm": {
          "name": "#%% md\n"
        },
        "id": "0mp0PQrdFpiZ"
      }
    },
    {
      "cell_type": "code",
      "execution_count": null,
      "outputs": [],
      "source": [
        "def new_pixel_value(context, kernel, central_pixel, sigmaR):\n",
        "    range_kernel = np.exp(-0.5 * ((context - central_pixel)**2) / (sigmaR**2))\n",
        "    combined_weights = kernel * range_kernel\n",
        "    new_value = np.sum(context * combined_weights) / np.sum(combined_weights)\n",
        "\n",
        "    return new_value"
      ],
      "metadata": {
        "pycharm": {
          "name": "#%%\n"
        },
        "id": "GUyUvRh2Fpia"
      }
    },
    {
      "cell_type": "code",
      "source": [
        "sigmaR = 30\n",
        "IBilateral = Input.copy()\n",
        "kernel = compute_gaussian_filter(5, 1)\n",
        "half_size = kernel.shape[0] // 2\n",
        "\n",
        "for i in range(window_size//2, Input.shape[0] - window_size//2):\n",
        "    for j in range(window_size//2, Input.shape[1] - window_size//2):\n",
        "        context = Input[i - window_size//2:i + window_size//2 + 1, j - window_size//2:j + window_size//2 + 1]\n",
        "        central_pixel = Input[i, j]\n",
        "        IBilateral[i, j] = new_pixel_value(context, kernel, central_pixel, sigmaR)\n",
        "\n",
        "plt.figure(figsize=(15, 15))\n",
        "plt.subplot(1, 2, 1)\n",
        "plt.title(\"Oryginał\")\n",
        "plt.imshow(Input, cmap='gray')\n",
        "plt.subplot(1, 2, 2)\n",
        "plt.title(\"Po filtracji\")\n",
        "plt.imshow(IBilateral, cmap='gray')\n",
        "plt.show()"
      ],
      "metadata": {
        "id": "fLotI-TuDBWU"
      },
      "execution_count": null,
      "outputs": []
    }
  ],
  "metadata": {
    "kernelspec": {
      "display_name": "Python 3",
      "language": "python",
      "name": "python3"
    },
    "language_info": {
      "codemirror_mode": {
        "name": "ipython",
        "version": 3
      },
      "file_extension": ".py",
      "mimetype": "text/x-python",
      "name": "python",
      "nbconvert_exporter": "python",
      "pygments_lexer": "ipython3",
      "version": "3.8.3"
    },
    "colab": {
      "provenance": []
    }
  },
  "nbformat": 4,
  "nbformat_minor": 0
}