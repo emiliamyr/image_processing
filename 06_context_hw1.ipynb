{
  "cells": [
    {
      "cell_type": "markdown",
      "metadata": {
        "collapsed": true,
        "pycharm": {
          "name": "#%% md\n"
        },
        "id": "ofg6rTf3uvP0"
      },
      "source": [
        "# Mediana dla obrazu kolorowego\n",
        "\n",
        "Idea filtracji medianowej jest dość prosta dla obrazów w odcieniach szarości.\n",
        "Dla obrazów kolorowych trudniej jest określić kryterium wg. którego szeregowane będą wartości, z których wyznaczana będzie mediana.\n",
        "\n",
        "Jedną z możliwości wykonania filtracji medianowej dla obrazów kolorowych (na podstawie *The Image Processing Handbook*, J. Russ) jest wykorzystanie następującej definicji mediany:\n",
        "``mediana to ten piksel z otoczenia, którego odległość do innych pikseli z otoczenia jest najmniejsza''.\n",
        "Jako miarę odległości wykorzystujemy pierwiastek z sumy kwadratów różnic poszczególnych składowych R,G,B.\n",
        "Zatem odległość między dwoma pikselami wyraża się wzorem:\n",
        "\\begin{equation}\n",
        "dRGB = \\sqrt{(R_1-R_2)^2+(G_1-G_2)^2+(B_1-B_2)^2}\n",
        "\\end{equation}\n",
        "\n",
        "Warto zwrócić uwagę, że istnieje wiele możliwości zdefiniowania porównywania wielkości wektorowych (jeden piksel to wektor o trzech składowych).\n",
        "Można zamiast odległości wykorzystać kąt albo połączyć oba parametry.\n",
        "Ponadto istnieje możliwość dodania do wektora dodatkowych składowych - tak aby lepiej opisać piksel.\n",
        "\n",
        "Celem zadania jest implementacja opisanego algorytmu.\n",
        "\n",
        "1. Wczytaj obraz *lenaRGBSzum.png* (dostępny na git).\n",
        "2. Zdefiniuj rozmiar okna.\n",
        "3. Wykonaj pętle po pikselach, dla których okno jest zdefiniowane (pomiń brzeg obrazu).\n",
        "4. Dla każdego piksela pobierz okno o właściwym rozmiarze.\n",
        "5. Wykonaj pętle po oknie, wewnątrz której obliczona zostanie suma odległości.\n",
        "    - Obliczanie różnicy: `window - window[rowWin, colWin]`.\n",
        "    - Obliczanie kwadratów: `np.square`.\n",
        "    - Obliczanie pierwiastka: `np.sqrt`.\n",
        "    - Obliczanie sumy metodą `.sum`.\n",
        "6. Po obliczeniu macierzy odległości wyznacz argument elementu minimalnego.\n",
        "Wykorzystaj funkcję `np.argmin`.\n",
        "Argument funkcji zostanie spłaszczony, jeśli ma więcej niż jeden wymiar.\n",
        "Aby przekonwertować spłaszczony indeks na indeks macierzy wykorzystaj funkcję `np.unravel_index`.\n",
        "7. Przypisz odpowiedni wektor wartości do piksela obrazu wynikowego.\n",
        "8. Wyświetl obraz oryginalny i przefiltrowany.\n",
        "9. Przeprowadź dwa eksperymenty - dla obrazu _lenaRGB_ oraz _lenaRGBszum_."
      ]
    },
    {
      "cell_type": "code",
      "source": [
        "import cv2\n",
        "import os\n",
        "import requests\n",
        "from matplotlib import pyplot as plt\n",
        "import numpy as np\n",
        "from scipy import signal\n",
        "\n",
        "url = 'https://raw.githubusercontent.com/vision-agh/poc_sw/master/06_Context/'\n",
        "\n",
        "fileNames = [\"lenaRGB.png\", \"lenaRGBSzum.png\"]\n",
        "for fileName in fileNames:\n",
        "  if not os.path.exists(fileName):\n",
        "      r = requests.get(url + fileName, allow_redirects=True)\n",
        "      open(fileName, 'wb').write(r.content)\n",
        "\n",
        "lenaRGB = cv2.imread('lenaRGB.png')\n",
        "lenaRGBszum = cv2.imread('lenaRGBSzum.png')"
      ],
      "metadata": {
        "pycharm": {
          "name": "#%% Mediana dla obrazu kolorowego\n"
        },
        "id": "scIf0MPVuvP7"
      },
      "execution_count": null,
      "outputs": []
    },
    {
      "cell_type": "code",
      "source": [
        "def medianowaKolor(image, size):\n",
        "    image = cv2.cvtColor(image, cv2.COLOR_BGR2RGB).astype(np.int32)\n",
        "    img = image.copy()\n",
        "    height, width, _ = img.shape\n",
        "    size = size//2\n",
        "    for i in range(height):\n",
        "        for j in range(width):\n",
        "            if height - size > i >= size and width - size > j >= size:\n",
        "                window = image[i-size:i+size+1, j-size:j+size+1]\n",
        "                temp = np.zeros((2*size+1, 2*size+1))\n",
        "                for wi in range(2*size+1):\n",
        "                    for wj in range(2*size+1):\n",
        "                        temp_window = np.square(window - window[wi, wj])\n",
        "                        temp_window = np.sum(temp_window, axis=-1)\n",
        "                        temp[wi, wj] = np.sqrt(temp_window).sum()\n",
        "                arg = np.argmin(temp)\n",
        "                arg = np.unravel_index(arg, window.shape[:2])\n",
        "                img[i,j] = window[arg]\n",
        "    plt.axis('off')\n",
        "    plt.imshow(img)"
      ],
      "metadata": {
        "id": "gFpZ4UiE0HCI"
      },
      "execution_count": null,
      "outputs": []
    },
    {
      "cell_type": "code",
      "source": [
        "medianowaKolor(lenaRGB, 3)"
      ],
      "metadata": {
        "id": "f1pvjE2r0SIB"
      },
      "execution_count": null,
      "outputs": []
    },
    {
      "cell_type": "code",
      "source": [
        "medianowaKolor(lenaRGBszum, 3)"
      ],
      "metadata": {
        "id": "qwRElZav0e1y"
      },
      "execution_count": null,
      "outputs": []
    },
    {
      "cell_type": "code",
      "source": [
        "plt.imshow(lenaRGBszum)"
      ],
      "metadata": {
        "id": "WAZxscSB0yWc"
      },
      "execution_count": null,
      "outputs": []
    }
  ],
  "metadata": {
    "kernelspec": {
      "display_name": "Python 3",
      "language": "python",
      "name": "python3"
    },
    "language_info": {
      "codemirror_mode": {
        "name": "ipython",
        "version": 2
      },
      "file_extension": ".py",
      "mimetype": "text/x-python",
      "name": "python",
      "nbconvert_exporter": "python",
      "pygments_lexer": "ipython2",
      "version": "2.7.6"
    },
    "colab": {
      "provenance": []
    }
  },
  "nbformat": 4,
  "nbformat_minor": 0
}