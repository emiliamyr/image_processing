{
  "cells": [
    {
      "cell_type": "markdown",
      "metadata": {
        "pycharm": {
          "name": "#%% md\n"
        },
        "id": "nIlLDillv0PY"
      },
      "source": [
        "# Detekcja krawędzi"
      ]
    },
    {
      "cell_type": "markdown",
      "source": [
        "## Cel ćwiczenia\n",
        "\n",
        "- Zapoznanie z metodami detekcji krawędzi:\n",
        "    - Sobel, Prewitt, Roberts - przypomnienie,\n",
        "    - Laplasjan z Gaussa (LoG – ang. Laplacian of Gaussian),\n",
        "    - Canny.\n",
        "\n",
        "Detekcja krawędzi przez wiele lat była podstawą algorytmów segmentacji.\n",
        "Krawędzie wykrywane są najczęściej z wykorzystaniem pierwszej (gradient) i drugiej (Laplasjan) pochodnej przestrzennej.\n",
        "Wykorzystanie obu metod zaprezentowane zostało w ćwiczeniu *Przetwarzanie wstępne. Filtracja kontekstowa*.\n",
        "\n",
        "W niniejszym ćwiczeniu poznane detektory krawędzi zostaną porównane z bardziej zaawansowanymi: Laplasjan z funkcji Gaussa (LoG), Zero Crossing i Canny."
      ],
      "metadata": {
        "collapsed": false,
        "pycharm": {
          "name": "#%% md\n"
        },
        "id": "lYvfAdWLv0Pa"
      }
    },
    {
      "cell_type": "markdown",
      "source": [
        "## Laplasjan z Gaussa (LoG)\n",
        "\n",
        "Funkcja Gaussa:<br>\n",
        "\\begin{equation}\n",
        "h(r) = e^{\\frac{-r^2}{2 \\sigma^2}}\n",
        "\\end{equation}<br>\n",
        "gdzie:\n",
        "- $r^2 = x^2 + y^2$\n",
        "- $\\sigma$ to odchylenie standardowe.\n",
        "\n",
        "Działanie filtracji Gaussowskiej zostało przedstawione w ćwiczeniu \"Przetwarzanie wstępne\". W jej wyniku następuje rozmazanie obrazu.\n",
        "Laplasjan tej funkcji dany jest wzorem:\n",
        "\n",
        "\\begin{equation}\n",
        "\\nabla^2 h(r) = \\frac{r^2 - 2\\sigma^2}{\\sigma^4} e^{-\\frac{r^2}{2\\sigma^2}}\n",
        "\\end{equation}\n",
        "\n",
        "Funkcję (z oczywistych powodów) nazywamy Laplasjan z Gaussa (LoG).\n",
        "Ponieważ druga pochodna jest operacją liniową, konwolucja obrazu z $\\nabla^2 h(r)$ daje taki sam efekt jak zastosowanie filtracji Gaussa na obrazie, a następnie obliczenie Laplasjanu z wyniku.\n",
        "Lokalizacja krawędzi polega na znalezieniu miejsca, gdzie po filtracji LoG następuje zmiana znaku.\n",
        "\n",
        "1. Wczytaj obraz *house.png*.\n",
        "2. Wykonaj rozmycie Gaussowskie obrazu wejściowego.\n",
        "W tym celu wykorzysaj funkcję `cv2.GaussianBlur(img, kSize, sigma)`.\n",
        "Pierwszy argument jest obrazem wejśćiowym.\n",
        "Drugi jest rozmiarem filtru (podanym w nawiasach okrągłych, np. *(3, 3)*).\n",
        "Trzecim argumentem jest odchylenie standardowe. Wartość jest dobrana automatycznie, jeśli zosanie podana wartość `0` (będą równe rozmiarowi).\n",
        "3. Oblicz laplasjan obrazu rozmytego.\n",
        "W tym celu wykorzysaj funkcję `cv2.Laplacian(img, ddepth)`.\n",
        "Pierszym argumentem jest obraz wejściowy.\n",
        "Drugim argumentem jest typ danych wejściowych. Użyj `cv2.CV_32F`.\n",
        "4. Wyznacz miejsca zmiany znaku.\n",
        "Zaimplementuj funkcję `crossing(LoG, thr)`:\n",
        "    - Najpierw stwórz tablicę, do której zostanie zapisany wynik.\n",
        "    Jej rozmiar jest taki sam jak przetwarzanego obrazu.\n",
        "    - Następnie wykonaj pętle po obrazie (bez ramki jednopikselowej).\n",
        "    W każdej iteracji stwórz otoczenie o rozmiarze $3 \\times 3$.\n",
        "    Dla otoczenia oblicz wartość maksymalną i minimalną.\n",
        "    - Jeśli wartości te mają przeciwne znaki, to do danego miejsca tablicy przypisz wartość:\n",
        "        - jeśli piksel wejściowy > 0, to dodaj do niego wartość bezwzględną minimum.\n",
        "        - jeśli piksel wejściowy < 0, to do jego wartości bezwzględnej dodaj maksimum.\n",
        "    - Zmień zakres wykonanej tablicy do $<0, 255>$.\n",
        "    - Wykonaj progowanie tablicy. Próg jest argumentem wejściowym.\n",
        "    - Przeskaluj dane binarne do wartości `[0, 255]`.\n",
        "    - Wykonaj konwersję do typu *uint8*.\n",
        "    - Wykonaj rozmycie medianowe wyniku.\n",
        "    Wykorzystaj funkcję `cv2.medianBlur(img, kSize)`.\n",
        "    Pierwszym argumentem jest obraz wejśćiowy, a drugim rozmiar filtra.\n",
        "    - Zwróć wyznaczoną tablicę.\n",
        "5. Wyświetl obraz wynikowy.\n",
        "6. Dobierz parametry (rozmiar filtru Gaussa, odchylenie standardowe, próg binaryzacji) tak, by widoczne były kontury domu, ale nie dachówki."
      ],
      "metadata": {
        "collapsed": false,
        "pycharm": {
          "name": "#%% md\n"
        },
        "id": "d_Ed3X1sv0Pb"
      }
    },
    {
      "cell_type": "code",
      "source": [
        "import cv2\n",
        "from matplotlib import pyplot as plt\n",
        "import numpy as np\n",
        "import math\n",
        "import os\n",
        "import requests\n",
        "\n",
        "url = 'https://raw.githubusercontent.com/vision-agh/poc_sw/master/09_Canny/'\n",
        "\n",
        "fileNames = [\"dom.png\"]\n",
        "for fileName in fileNames:\n",
        "  if not os.path.exists(fileName):\n",
        "      r = requests.get(url + fileName, allow_redirects=True)\n",
        "      open(fileName, 'wb').write(r.content)\n",
        "\n"
      ],
      "metadata": {
        "pycharm": {
          "name": "#%% Zadanie 1 - LoG\n"
        },
        "id": "y8eBaynov0Pc"
      },
      "execution_count": null,
      "outputs": []
    },
    {
      "cell_type": "code",
      "source": [
        "dom = cv2.imread('dom.png', cv2.IMREAD_GRAYSCALE)\n",
        "dom_gauss = cv2.GaussianBlur(dom, (5, 5), 0)\n",
        "dom_laplacian = cv2.Laplacian(dom_gauss, cv2.CV_32F)\n",
        "f, axs = plt.subplots(1, 3, figsize=(20,10))\n",
        "axs[0].imshow(dom, 'grey')\n",
        "axs[0].axis('off')\n",
        "axs[1].imshow(dom_gauss, 'grey')\n",
        "axs[1].axis('off')\n",
        "axs[2].imshow(dom_laplacian, 'grey')\n",
        "axs[2].axis('off')\n",
        "plt.show()"
      ],
      "metadata": {
        "id": "C_C_Rc0GkJd0"
      },
      "execution_count": null,
      "outputs": []
    },
    {
      "cell_type": "code",
      "source": [
        "def crossing(LoG, thr):\n",
        "  img = np.zeros(LoG.shape)\n",
        "  for x in range(1, LoG.shape[0] - 1):\n",
        "    for y in range(1, LoG.shape[1] - 1):\n",
        "      window = LoG[x-1:x+2, y-1:y+2]\n",
        "      min = np.min(window)\n",
        "      max = np.max(window)\n",
        "      if min * max < 0:\n",
        "        if LoG[x, y] > 0:\n",
        "          img[x, y] = LoG[x, y] + abs(min)\n",
        "        if LoG[x, y] < 0:\n",
        "          img[x, y] = abs(LoG[x, y]) + max\n",
        "  img_norm = cv2.normalize(img, None, 0, 255, cv2.NORM_MINMAX)\n",
        "  img_binary = np.where(img_norm > thr, 255, 0)\n",
        "  img_binary = img_binary * 255\n",
        "  img_binary = img_binary.astype(np.uint8)\n",
        "  img_binary = cv2.medianBlur(img_binary, 5)\n",
        "  return img_binary"
      ],
      "metadata": {
        "id": "2SNhiOetoBQ7"
      },
      "execution_count": null,
      "outputs": []
    },
    {
      "cell_type": "code",
      "source": [
        "dom_crossing = crossing(dom_laplacian, 50)\n",
        "f, axs = plt.subplots(1, 2, figsize=(20,10))\n",
        "axs[0].imshow(dom, 'grey')\n",
        "axs[0].axis('off')\n",
        "axs[1].imshow(dom_crossing, 'grey')\n",
        "axs[1].axis('off')\n",
        "plt.show()"
      ],
      "metadata": {
        "id": "XG9TP1X2rm0h"
      },
      "execution_count": null,
      "outputs": []
    },
    {
      "cell_type": "markdown",
      "source": [
        "## Algorytm Canny'ego\n",
        "\n",
        "> Algorytm Canny'ego to często wykorzystywana metoda detekcji krawędzi.\n",
        "> Zaproponowana została w 1986r. przez Johna F. Cannego.\n",
        "> Przy jego projektowaniu założono trzy cele:\n",
        "> - niska liczba błędów - algorytm powinien znajdywać wszystkie krawędzie oraz generować jak najmniej fałszywych detekcji,\n",
        "> - punkty krawędziowe powinny być poprawnie lokalizowane - wykryte punkty powinny być jak najbardziej zbliżone do rzeczywistych,\n",
        "> - krawędzie o szerokości 1 piksela - algorytm powinien zwrócić jeden punkt dla każdej rzeczywistej krawędzi.\n",
        "\n",
        "Zaimplementuj algorytm detekcji krawędziCanny'ego:\n",
        "1. W pierwszym kroku obraz przefiltruj dwuwymiarowym filtrem Gaussa.\n",
        "2. Następnie oblicz gradient pionowy i poziomy ($g_x $ i $g_y$).\n",
        "Jedną z metod jest filtracja Sobela.\n",
        "3. Dalej oblicz amplitudę:\n",
        "$M(x,y)  = \\sqrt{g_x^2+g_y^2}$ oraz kąt:\n",
        "$\\alpha(x,y) = arctan(\\frac{g_y}{g_x})$.\n",
        "Do obliczenia kąta wykorzystaj funkcję `np.arctan2(x1, x2)`.\n",
        "Wynik jest w radianach.\n",
        "4. W kolejnym etapie wykonaj kwantyzację kątów gradientu.\n",
        "Kąty od $-180^\\circ$ do $180^\\circ$ można podzielić na 8 przedziałów:\n",
        "[$-22.5^\\circ, 22.5^\\circ$], [$22.5^\\circ, 67.5^\\circ$],\n",
        "[$67.5^\\circ, 112.5^\\circ$], [$112.5^\\circ, 157.5^\\circ$],\n",
        "[$157.5^\\circ, -157.5^\\circ$], [$-157.5^\\circ, -112.5^\\circ$],\n",
        "[$-112.5^\\circ, -67.5^\\circ$], [$-67.5^\\circ, -22.5^\\circ$].\n",
        "Przy czym należy rozpatrywać tylko 4 kierunki:\n",
        "    - pionowy ($d_1$),\n",
        "    - poziomy ($d_2$),\n",
        "    - skośny lewy ($d_3$),\n",
        "    - skośny prawy ($d_4$).\n",
        "5. Dalej przeprowadź eliminację pikseli, które nie mają wartości maksymalnej (ang. *nonmaximal suppresion*).\n",
        "Celem tej operacji jest redukcja szerokości krawędzi do rozmiaru 1 piksela.\n",
        "Algorytm przebiega następująco.\n",
        "W rozpatrywanym otoczeniu o rozmiarze $3 \\times 3$:\n",
        "    - określ do którego przedziału należy kierunek gradientu piksela centralnego ($d_1, d_2, d_3, d_4$).\n",
        "    - przeanalizuje sąsiadów leżących na tym kierunku.\n",
        "Jeśli choć jeden z nich ma amplitudę większą niż piksel centralny, to należy uznać, że nie jest lokalnym maksimum i do wyniku przypisać $g_N(x,y) = 0$.\n",
        "W przeciwnym przypadku $g_N(x,y) = M(x,y)$.\n",
        "Przez $g_N$ rozumiemy obraz detekcji lokalnych maksimów.\n",
        "Zaimplementuj funkcję `nonmax`.\n",
        "Pierwszym argementem jest macierz kierunków (po kwantyzacji).\n",
        "Drugim argumentem jest macierz amplitudy.\n",
        "6. Ostatnią operacją jest binaryzacja obrazu $g_N$.\n",
        "Stosuje się tutaj tzw. binaryzację z histerezą.\n",
        "Wykorzystuje się w niej dwa progi: $T_L$ i $T_H$, przy czym $T_L < T_H$.\n",
        "Canny zaproponował, aby stosunek progu wyższego do niższego był jak 3 lub 2 do 1.\n",
        "Rezultaty binaryzacji można opisać jako:<br>\n",
        "$g_{NH}(x,y) = g_N(x,y) \\geq TH $<br>\n",
        "$g_{NL}(x,y) = TH > g_N(x,y) \\geq TL $<br>\n",
        "Można powiedzieć, że na obrazie $g_{NH}$ są \"pewne\" krawędzie.\n",
        "Natomiast na $g_{NL}$ \"potencjalne\".\n",
        "Często krawędzie \"pewne\" nie są ciągłe.\n",
        "Dlatego wykorzystuje się obraz $g_{NL}$ w następującej procedurze:\n",
        "    - Stwórz stos zawierający wszystkie piksele zaznaczone na obrazie $g_{NH}$.\n",
        "W tym celu wykorzystaj listę współrzędnych `[row, col]`.\n",
        "Do pobrania elementu z początku służy metoda `list.pop()`.\n",
        "Do dodania elementu na koniec listy służy metoda `list.append(new)`.\n",
        "    - Stwórz obraz, który będzie zawierał informację czy dany piksel został już odwiedzony.\n",
        "    - Stwórz obraz, któy zawierać będzie wynikowe krawędzie.\n",
        "Jej rozmiar jest równy rozmiarowi obrazu.\n",
        "    - Wykonaj pętlę, która będzie pobierać elementy z listy, dopóki ta nie będzie pusta.\n",
        "W tym celu najlepiej sprawdzi się pętla `while`.\n",
        "    - W każdej iteracji pobierz element ze stosu.\n",
        "    - Sprawdź czy dany element został już odwiedzony.\n",
        "    - Jeśli nie został, to:\n",
        "        - Oznacz go jako odwiedzony,\n",
        "        - Oznacz piksel jako krawędź w wyniku,\n",
        "        - Sprawdź otoczenie piksela w obrazie $g_{NL}$,\n",
        "        - Dodaj do stosu współrzędne otoczenia, które zawierają krawędź (potencjalną).\n",
        "        Można to wykoanać np. pętlą po stworzonym otoczeniu.\n",
        "7. Wyświetl obraz oryginalny, obraz $g_{NH}$ oraz obraz wynikowy.\n",
        "\n",
        "Pomocnicze obrazy $g_{NH}$ i $g_{NL}$ zostały wprowadzone dla uproszczenia opisu.\n",
        "Algorytm można zaimplementować wbardziej \"zwarty\" sposób.\n",
        "\n",
        "Na podstawie powyższego opisu zaimplementuj algorytm Cannego."
      ],
      "metadata": {
        "collapsed": false,
        "pycharm": {
          "name": "#%% md\n"
        },
        "id": "0kNxMqdsv0Pd"
      }
    },
    {
      "cell_type": "code",
      "execution_count": null,
      "outputs": [],
      "source": [
        "import scipy\n",
        "def canny(image, high, low):\n",
        "  img_gauss = cv2.GaussianBlur(image, (3, 3), 0)\n",
        "  S1 = np.array([[-1, 0, 1], [-2, 0, 2], [-1, 0, 1]])\n",
        "  S2 = np.array([[-1, -2, -1], [0, 0, 0], [1, 2, 1]])\n",
        "  img_x = scipy.signal.convolve2d(img_gauss, S1, mode=\"same\")\n",
        "  img_y = scipy.signal.convolve2d(img_gauss, S2, mode=\"same\") #filtracja sobela\n",
        "  img_mag = np.sqrt(img_x ** 2 + img_y ** 2) #amplituda\n",
        "  img_angle = np.rad2deg(np.arctan2(img_y, img_x)) #kąt\n",
        "  img_angle[img_angle < 0] += 180 #na stopnie\n",
        "\n",
        "  img_nonmax = np.zeros((image.shape[0], image.shape[1]))\n",
        "  for x in range(image.shape[0]):\n",
        "    for y in range(image.shape[1]):\n",
        "      if (0 <= img_angle[x, y] < 22.5) or (157.5 <= img_angle[x, y] <= 180): #poziomy\n",
        "        img_nonmax[x, y] = 0\n",
        "      elif (22.5 <= img_angle[x, y] < 67.5): #skosny prawy\n",
        "        img_nonmax[x, y] = 1\n",
        "      elif (67.5 <= img_angle[x, y] < 112.5): #pionowy\n",
        "        img_nonmax[x, y] = 2\n",
        "      elif (112.5 <= img_angle[x, y] < 157.5): #skosny lewy\n",
        "        img_nonmax[x, y] = 3\n",
        "\n",
        "  img_nonmax = nonmax(img_nonmax, img_mag)\n",
        "  img_nh = img_nonmax >= high #pewne krawedzie\n",
        "  img_nl = (img_nonmax >= low) & (img_nonmax < high) #potencjalne krawedzie\n",
        "\n",
        "  stos_nh = []\n",
        "  for i in range(image.shape[0]):\n",
        "    for j in range(image.shape[1]):\n",
        "      if img_nh[i, j] == 1: #jesli jest pewna krawedzia\n",
        "        stos_nh.append([i, j])\n",
        "  visited = np.zeros((image.shape[0], image.shape[1]))\n",
        "  img_result = np.zeros((image.shape[0], image.shape[1]))\n",
        "  while stos_nh:\n",
        "    i = stos_nh.pop()\n",
        "    if visited[i[0], i[1]] == 0: #jesli nieodwiedzony\n",
        "      visited[i[0], i[1]] = 1\n",
        "      img_result[i[0], i[1]] = 1 #dodaj do krawedzi koncowych\n",
        "      for x in range(- 1, 2):\n",
        "        for y in range(- 1, 2):\n",
        "          if img_nl[i[0] + x, i[1] + y] == 1: #jesli otoczenie w krawedziach potencjalnych\n",
        "            stos_nh.append([i[0] + x, i[1] + y])\n",
        "  return img_result\n",
        "\n",
        "def nonmax(matrix, img_mag): #zeby krawedz na 1 piksel\n",
        "  img_nonmax = np.zeros((matrix.shape[0], matrix.shape[1]))\n",
        "  for x in range(1, matrix.shape[0] - 1):\n",
        "    for y in range(1, matrix.shape[1] - 1):\n",
        "      if matrix[x, y] == 0: #poziomy\n",
        "        if (img_mag[x, y] > img_mag[x, y - 1]) and (img_mag[x, y] > img_mag[x, y + 1]):\n",
        "          img_nonmax[x, y] = img_mag[x, y]\n",
        "        else:\n",
        "          img_nonmax[x, y] = 0\n",
        "      elif matrix[x, y] == 1: #skosny prawy\n",
        "        if (img_mag[x, y] > img_mag[x - 1, y + 1]) and (img_mag[x, y] > img_mag[x + 1, y - 1]):\n",
        "          img_nonmax[x, y] = img_mag[x, y]\n",
        "        else:\n",
        "          img_nonmax[x, y] = 0\n",
        "      elif matrix[x, y] == 2: #pionowy\n",
        "        if (img_mag[x, y] > img_mag[x - 1, y]) and (img_mag[x, y] > img_mag[x + 1, y]):\n",
        "          img_nonmax[x, y] = img_mag[x, y]\n",
        "        else:\n",
        "          img_nonmax[x, y] = 0\n",
        "      elif matrix[x, y] == 3: #skosny lewy\n",
        "        if (img_mag[x, y] > img_mag[x - 1, y - 1]) and (img_mag[x, y] > img_mag[x + 1, y + 1]):\n",
        "          img_nonmax[x, y] = img_mag[x, y]\n",
        "        else:\n",
        "          img_nonmax[x, y] = 0\n",
        "  return img_nonmax"
      ],
      "metadata": {
        "pycharm": {
          "name": "#%% Zadanie 2 - Canny\n"
        },
        "id": "9DhHA2uiv0Pe"
      }
    },
    {
      "cell_type": "markdown",
      "source": [
        "## Algorytm Canny'ego - OpenCV\n",
        "\n",
        "1. Wykonaj dektekcję krawędzi metodą Canny'ego wykorzystując funkcję `cv2.Canny`.\n",
        "    - Pierwszym argumentem funkcji jest obraz wejściowy.\n",
        "    - Drugim argumentem jest mniejszy próg.\n",
        "    - Trzecim argumentem jest większy próg.\n",
        "    - Czwarty argument to tablica, do której wpisany zostanie wynik.\n",
        "    Można zwrócić go przez wartość i podać wartość `None`.\n",
        "    - Piąty argument to rozmiar operatora Sobela (w naszym przypadku 3).\n",
        "    - Szósty argument to rodzaj używanej normy.\n",
        "    0 oznacza normę $L_1$, 1 oznacza normę $L_2$. Użyj $L_2$.\n",
        "2. Wynik wyświetl i porównaj z własną implementacją."
      ],
      "metadata": {
        "collapsed": false,
        "pycharm": {
          "name": "#%% md\n"
        },
        "id": "zS_nhXbhv0Pe"
      }
    },
    {
      "cell_type": "code",
      "execution_count": null,
      "outputs": [],
      "source": [
        "# gauss\n",
        "img_gauss = cv2.GaussianBlur(cv2.imread(\"dom.png\", cv2.IMREAD_GRAYSCALE), (3, 3), 0)\n",
        "img_canny = cv2.Canny(img_gauss, 40, 180, None, 3, 1)\n",
        "plt.imshow(img_canny, \"gray\")\n",
        "plt.axis(\"off\")\n",
        "plt.show()\n",
        "\n",
        "img_my = canny(cv2.imread(\"dom.png\", cv2.IMREAD_GRAYSCALE), 180, 40)\n",
        "plt.imshow(img_my, \"gray\")\n",
        "plt.axis(\"off\")"
      ],
      "metadata": {
        "pycharm": {
          "name": "#%% Zadanie 3 - Canny opencv\n"
        },
        "id": "auxKObL-v0Pf"
      }
    }
  ],
  "metadata": {
    "kernelspec": {
      "display_name": "Python 3",
      "language": "python",
      "name": "python3"
    },
    "language_info": {
      "codemirror_mode": {
        "name": "ipython",
        "version": 3
      },
      "file_extension": ".py",
      "mimetype": "text/x-python",
      "name": "python",
      "nbconvert_exporter": "python",
      "pygments_lexer": "ipython3",
      "version": "3.8.3"
    },
    "colab": {
      "provenance": []
    }
  },
  "nbformat": 4,
  "nbformat_minor": 0
}