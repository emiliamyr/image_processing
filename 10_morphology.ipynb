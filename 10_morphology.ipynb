{
  "cells": [
    {
      "cell_type": "markdown",
      "metadata": {
        "id": "NnDX1AhkKHGr"
      },
      "source": [
        "# Przekształcenia morfologiczne\n",
        "\n",
        "## Cel:\n",
        "- zapoznanie z podstawowymi przekształceniami morfologicznymi – erozją, dylatacją, otwarciem, zamknięciem, transformacją trafi, nie trafi,\n",
        "- zapoznanie ze złożonymi operacjami morfologicznymi wykorzystującymi rekonstrukcję morfologiczną,\n",
        "- zapoznanie z operacjami morfologicznym dla obrazów w odcieniach szarości – erozją, dylatacją, otwarciem, zamknięciem, filtrami top-hat i bottom-hat,\n",
        "- zapoznanie z wykorzystaniem złożonych operacji morfologicznych przy rozwiązywaniu konkretnego problemu,\n",
        "- zadanie domowe: wykorzystanie morfologii do implementacji ,,gry w życie''."
      ]
    },
    {
      "cell_type": "markdown",
      "metadata": {
        "id": "CbPVOPm8KHGx"
      },
      "source": [
        "## Przypomnienie teorii\n",
        "\n",
        "### Element strukturalny\n",
        "\n",
        "Element strukturalny obrazu jest to pewien wycinek obrazu (przy dyskretnej reprezentacji obrazu – pewien podzbiór jego elementów).\n",
        "Najczęściej stosowanym elementem strukturalnym jest kwadratowa maska o rozmiarze 3×3 lub 5×5. Niekiedy pożądane są maski o innym kształcie, np. zbliżonym do elipsy.\n",
        "\n",
        "### Erozja\n",
        "\n",
        "Erozja (ang. _erosion_) jest podstawowym przekształceniem morfologicznym.\n",
        "Zakładamy, że obraz wyjściowy zawiera pewien obszar (figurę) X, wyróżniający się pewną charakterystyczną cechą (np. odróżniającą się od tła jasnością).\n",
        "Figura X po wykonaniu operacji erozji to zbiór punktów centralnych wszystkich elementów strukturalnych, które w całości mieszczą się we wnętrzu obszaru X.\n",
        "Miarą stopnia erozji jest wielkość elementu strukturalnego.\n",
        "\n",
        "**Erozję** można traktować jako **filtr minimalny**, tj. z danego otoczenia piksela (określanego przez maskę) do obrazu wynikowego wybierana jest wartość minimalna.\n",
        "\n",
        "### Dylatacja\n",
        "\n",
        "Dylatacja (ang. _dilation_): Zakładamy, że obraz wejściowy zawiera obszar X wyróżniający się pewną charakterystyczną cechą (np. jasnością). Figura przekształcona przez dylatacje to zbiór punktów centralnych wszystkich elementów strukturalnych, których którykolwiek punkt mieści sie we wnętrzu obszaru X. Miarą  dylatacji jest wielkość elementu strukturalnego.\n",
        "\n",
        "**Dylatację** można traktować jako **filtr maksymalny**, tj. z danego otoczenia piksela (określanego\n",
        "przez maskę) do obrazu wynikowego wybierana jest wartość maksymalna.\n",
        "\n",
        "### Otwarcie i zamknięcie\n",
        "\n",
        "Otwarcie (ang. _opening_) polega na wykonaniu najpierw operacji erozji, a następnie dylatacji.\n",
        "\n",
        "> Otwarcie = erozja + dylatacja\n",
        "\n",
        "Zamkniecie (ang. _closing_) polega na wykonaniu najpierw operacji dylatacji, a następnie erozji.\n",
        "\n",
        "> Zamkniecie = dylatacja + erozja\n",
        "\n",
        "### Obrazy w odcieniu szarości\n",
        "\n",
        "Obrazy w odcieniu szarości – detekcja dolin i szczytów (ang. _top-hat_, _bottom-hat_):\n",
        "\n",
        "Aby wyodrębnić z obrazu lokalne ekstrema można wykorzystać zdefiniowane wcześniej przekształcenia: otwarcie i zamkniecie.\n",
        "W celu wyszukania lokalnych maksimów (szczytów) należy od wyniku otwarcia danego obrazu odjąć obraz wyjściowy.\n",
        "Analogicznie, aby wyodrębnić lokalne minima obrazu, należy dokonać podobnej operacji, z tym że pierwszą operacją bedzie zamknięcie.\n",
        "Uwaga! Należy zwrócić uwagę, że poniższe metody służą do detekcji (pokreślenia) tylko lokalnych ekstremów!"
      ]
    },
    {
      "cell_type": "markdown",
      "metadata": {
        "id": "_mWYIIJBKHGz"
      },
      "source": [
        "## Podstawowe operacje morfologiczne: erozja, dylatacja, otwarcie, zamknięcie, trafi nie trafi\n",
        "\n",
        "1. Wczytaj obraz ertka.bmp\n",
        "2. Wykonaj operację erozji `cv2.erode`. Parametrami funkcji są obraz oraz element strukturalny. Element można stworzyć samodzielnie jako tablicę składającą się z 0 i 1 `np.ones((3,3))` lub posłużyć się funkcją `cv2.getStructuringElement`, do której należy podać kształt `cv2.MORPH_RECT` oraz wielkość elementu `(3,3)`. Na początku użyj kwadratu o rozmiarze 3 pikseli.\n",
        "3. Wyświetl obraz oryginalny oraz po wykonaniu erozji – najlepiej na wspólnym wykresie. Upewnij się, że rozumiesz, jak działa erozja.\n",
        "4. Zmień element strukturalny (inny kształt – koło, diament lub inny rozmiar). Ponownie wykonaj erozję, sprawdź rezultat działania operacji.\n",
        "5. Oprócz zmiany elementu strukturalnego na rezultat erozji można wpłynąć zwiększając liczbę iteracji (np. wykonać erozję trzykrotnie). Ustal element strukturalny na kwadrat o boku 3 piksele. Wykonaj erozję obrazu _ertka_ dwukrotnie, a następnie trzykrotnie. Zaobserwuj rezultaty. Wskazówka: warto zajrzeć do dokumentacji funkcji `erode`.\n",
        "6. Wczytaj obraz buzka.bmp. Dobierz element strukturalny (zdefiniuj go ręcznie jako macierz 0 i 1) w taki sposób, aby usunąć włosy o określonej orientacji (ukośnie lewo lub prawo).\n",
        "7. Uwaga: pokazane metody wpływania na rezultaty erozji wykorzystuje się identycznie dla pozostałych operacji morfologicznych – dylatacji, otwarcia i zamknięcia.\n",
        "8. Operacją odwrotną do erozji jest dylatacja `cv2.dilate`. Ustal element strukturalny na kwadrat o boku 3 piksele. Wykonaj dylatację obrazu _ertka_. Zapoznaj się z rezultatem działania.\n",
        "9. Na wspólnym wykresie wyświetl obraz oryginalny oraz obrazy po operacjach morfologicznych: erozja, dylatacja, otwarcie i zamkniecie. Otwarcie i zamknięcie można uzyskać za pomocą `cv2.morphologyEx(img, operacja, element_strukturalny)`, gdzie typem operacji jest `cv2.MORPH_OPEN` lub `cv2.MORPH_CLOSE`.\n",
        "10. Zmień obraz _ertka_ na _wyspa_, a następnie na _kolka_. Wykonaj na każdym cztery przedstawione operacje morfologiczne. Zaobserwuj rezultaty.\n",
        "11. Minizadanko: wykorzystując poznane operacje morfologiczne spowoduj, że na obrazie _ertka_ pozostanie tylko napis RT (bez wypustek i dziur).\n",
        "12. Niekiedy potrzebne jest wykrycie konkretnych konfiguracji pikseli na obrazie – przydaje się do tego transformacja trafi, nie trafi (ang. _hit-or-miss_). Pozwala ona wykryć na obrazie obecność elementów, które dokładnie odpowiadają masce.\n",
        "13. Wczytaj obraz hom.bmp. Wyświetl go. Załóżmy, że chcemy wykryć na obrazie krzyżyki 3x3. Zdefiniuj następujący element strukturalny:\n",
        "```\n",
        "[0,1,0]\n",
        "[1,1,1]\n",
        "[0,1,0]\n",
        "```\n",
        "Wykonaj transformację trafi, nie trafi – `cv2.morphologyEx(hom, cv2.MORPH_HITMISS, se1)`. Rezultat operacji wyświetl. Czy udało się zrealizować zadanie? Jeżeli pojawiają się u Państwa błędy związane z typem danych, należy obraz wejściowy przekonwertować na skalę szarości: `cv2.cvtColor(hom, cv2.COLOR_BGR2GRAY)`.\n"
      ]
    },
    {
      "cell_type": "code",
      "execution_count": null,
      "metadata": {
        "id": "r375Q-2bKHG1"
      },
      "outputs": [],
      "source": [
        "import matplotlib.pyplot as plt\n",
        "import cv2\n",
        "import numpy as np\n",
        "import os\n",
        "import requests\n",
        "\n",
        "url = 'https://raw.githubusercontent.com/vision-agh/poc_sw/master/10_Morphology/'\n",
        "\n",
        "fileNames = [\"buzka.bmp\", \"calculator.bmp\", \"ertka.bmp\", \"ferrari.bmp\", \"fingerprint.bmp\", \"hom.bmp\", \"kolka.bmp\", \"kosc.bmp\", \"szkielet.bmp\", \"text.bmp\", \"wyspa.bmp\", \"rice.png\", \"gra.py\"]\n",
        "for fileName in fileNames:\n",
        "  if not os.path.exists(fileName):\n",
        "      r = requests.get(url + fileName, allow_redirects=True)\n",
        "      open(fileName, 'wb').write(r.content)\n"
      ]
    },
    {
      "cell_type": "code",
      "source": [
        "ertka = cv2.imread('ertka.bmp', cv2.IMREAD_GRAYSCALE)\n",
        "kwadrat = cv2.getStructuringElement(cv2.MORPH_RECT, (3,3))\n",
        "element2 = cv2.getStructuringElement(cv2.MORPH_RECT, (5,5))\n",
        "element3 = cv2.getStructuringElement(cv2.MORPH_ELLIPSE, (5,5))\n",
        "erozja = cv2.erode(ertka, kwadrat)\n",
        "erozja2 = cv2.erode(ertka, element2)\n",
        "erozja3 = cv2.erode(ertka, element3)\n",
        "f, axs = plt.subplots(1,4, figsize = (15,15))\n",
        "axs[0].imshow(ertka, 'gray')\n",
        "axs[0].axis('off')\n",
        "axs[1].imshow(erozja, 'gray')\n",
        "axs[1].axis('off')\n",
        "axs[2].imshow(erozja2, 'gray')\n",
        "axs[2].axis('off')\n",
        "axs[3].imshow(erozja3, 'gray')\n",
        "axs[3].axis('off')\n",
        "plt.show()"
      ],
      "metadata": {
        "id": "uK6CaSb51rwO"
      },
      "execution_count": null,
      "outputs": []
    },
    {
      "cell_type": "code",
      "source": [
        "img = cv2.erode(ertka, np.ones((3, 3)), iterations=2)\n",
        "plt.subplot(1, 2, 1)\n",
        "plt.imshow(img, \"gray\")\n",
        "plt.title(\"erode 2 iterations\")\n",
        "plt.axis(\"off\")\n",
        "\n",
        "img = cv2.erode(ertka, np.ones((3, 3)), iterations=3)\n",
        "plt.subplot(1, 2, 2)\n",
        "plt.imshow(img, \"gray\")\n",
        "plt.title(\"erode 3 iterations\")\n",
        "plt.axis(\"off\")"
      ],
      "metadata": {
        "id": "4ufALK022BYK"
      },
      "execution_count": null,
      "outputs": []
    },
    {
      "cell_type": "code",
      "source": [
        "buzka = cv2.imread('buzka.bmp', cv2.IMREAD_GRAYSCALE)\n",
        "plt.imshow(buzka, 'gray')\n",
        "plt.axis('off')\n",
        "plt.show()"
      ],
      "metadata": {
        "id": "L6-PFqEy5a_f"
      },
      "execution_count": null,
      "outputs": []
    },
    {
      "cell_type": "code",
      "source": [
        "A = np.array([[0, 0, 1], [0, 1, 0], [1, 0, 0]], np.uint8)\n",
        "img = cv2.erode(buzka, A)\n",
        "plt.imshow(img, \"gray\")\n",
        "plt.axis(\"off\")\n",
        "plt.show()"
      ],
      "metadata": {
        "id": "ntmeQmEp3OU1"
      },
      "execution_count": null,
      "outputs": []
    },
    {
      "cell_type": "code",
      "source": [
        "B = np.array([[1, 0, 1], [0, 1, 0], [1, 0, 1]], np.uint8)\n",
        "img = cv2.erode(buzka, B)\n",
        "plt.imshow(img, \"gray\")\n",
        "plt.axis(\"off\")\n",
        "plt.show()"
      ],
      "metadata": {
        "id": "E-wntlWk21TW"
      },
      "execution_count": null,
      "outputs": []
    },
    {
      "cell_type": "code",
      "source": [
        "dylatacja = cv2.dilate(ertka, kwadrat)\n",
        "plt.subplot(1, 2, 1)\n",
        "plt.imshow(ertka, \"gray\")\n",
        "plt.title(\"original\")\n",
        "plt.axis(\"off\")\n",
        "plt.subplot(1, 2, 2)\n",
        "plt.imshow(dylatacja, \"gray\")\n",
        "plt.title(\"dilate\")\n",
        "plt.axis(\"off\")\n",
        "plt.show()"
      ],
      "metadata": {
        "id": "elFV9iPJ3dUC"
      },
      "execution_count": null,
      "outputs": []
    },
    {
      "cell_type": "code",
      "source": [
        "def morf(img, element):\n",
        "  erozja = cv2.erode(img, element)\n",
        "  dylatacja = cv2.dilate(img, element)\n",
        "  otwarcie = cv2.morphologyEx(img, cv2.MORPH_OPEN, element)\n",
        "  zamkniecie = cv2.morphologyEx(img, cv2.MORPH_CLOSE, element)\n",
        "  f, axs = plt.subplots(1,5, figsize = (20,20))\n",
        "  axs[0].imshow(img, 'gray')\n",
        "  axs[0].set_title('original')\n",
        "  axs[0].axis('off')\n",
        "  axs[1].imshow(erozja, 'gray')\n",
        "  axs[1].set_title('erozja')\n",
        "  axs[1].axis('off')\n",
        "  axs[2].imshow(dylatacja, 'gray')\n",
        "  axs[2].set_title('dylatacja')\n",
        "  axs[2].axis('off')\n",
        "  axs[3].imshow(otwarcie, 'gray')\n",
        "  axs[3].set_title('otwarcie')\n",
        "  axs[3].axis('off')\n",
        "  axs[4].imshow(zamkniecie, 'gray')\n",
        "  axs[4].set_title('zamkniecie')\n",
        "  axs[4].axis('off')\n",
        "  plt.show()"
      ],
      "metadata": {
        "id": "52A5uGNE5fPc"
      },
      "execution_count": null,
      "outputs": []
    },
    {
      "cell_type": "code",
      "source": [
        "morf(ertka, kwadrat)\n",
        "wyspa = cv2.imread('wyspa.bmp', cv2.IMREAD_GRAYSCALE)\n",
        "morf(wyspa, kwadrat)\n",
        "kolka = cv2.imread('kolka.bmp', cv2.IMREAD_GRAYSCALE)\n",
        "morf(kolka, kwadrat)"
      ],
      "metadata": {
        "id": "Jj_kJB8f9hB0"
      },
      "execution_count": null,
      "outputs": []
    },
    {
      "cell_type": "code",
      "source": [
        "otwarcie_ertka = cv2.morphologyEx(ertka, cv2.MORPH_OPEN, kwadrat)\n",
        "zamkniecie_ertka = cv2.morphologyEx(otwarcie_ertka, cv2.MORPH_CLOSE, kwadrat)\n",
        "plt.imshow(zamkniecie_ertka, 'gray')\n",
        "plt.axis('off')\n",
        "plt.show()"
      ],
      "metadata": {
        "id": "JrOJWeid-DtX"
      },
      "execution_count": null,
      "outputs": []
    },
    {
      "cell_type": "code",
      "source": [
        "hom = cv2.imread('hom.bmp', cv2.IMREAD_GRAYSCALE)\n",
        "plt.imshow(hom, 'gray')\n",
        "plt.axis('off')\n",
        "plt.show()\n",
        "element_hom = np.array([[0, 1, 0], [1, 1, 1], [0, 1, 0]], np.uint8)\n",
        "hit_or_miss = cv2.morphologyEx(hom, cv2.MORPH_HITMISS, element_hom)\n",
        "plt.imshow(hit_or_miss, 'gray')\n",
        "plt.axis('off')"
      ],
      "metadata": {
        "id": "4Gf2fKTJ-Ci2"
      },
      "execution_count": null,
      "outputs": []
    },
    {
      "cell_type": "markdown",
      "metadata": {
        "id": "QgLQKgtvKHG2"
      },
      "source": [
        "## Inne operacje morfologiczne\n",
        "Do innych operacji morfologicznych należą między innymi ścienianie (ang. _thinning_), szkieletyzacja (ang. _skeletonization_), rekonstrukcja morfologiczna (ang. _morphological reconstruction_), czyszczenie brzegu (ang. _clearing border_) i uzupełnianie dziur (ang. _filling holes_). W tym rozdziale zostanie zaprezentowana rekonstrukcja morfologiczna.\n",
        "\n",
        "Rekonstrukcja morfologiczna jest operacją trójargumentową. Wymaga podania markera (obrazu, od którego zacznie się transformacja), maski (ograniczenia transformacji) oraz elementu strukturalnego. Operacja polega na wykonywaniu kroków (dopóki w dwóch kolejnych iteracjach nic się nie zmieni):\n",
        "- dylatacja obrazu markera (z danym elementem strukturalnym),\n",
        "- nowy marker = część wspólna dylatacji starego markera i maski.\n",
        "\n",
        "Trzy operacje, które wykorzystują schemat rekonstrukcji to:\n",
        "- otwarcie poprzez rekonstrukcję,\n",
        "- wypełnianie dziur,\n",
        "- czyszczenie brzegu.\n",
        "\n",
        "### Otwarcie poprzez rekonstrukcję:\n",
        "- Wczytaj obraz text.bmp, wyświetl go.\n",
        "- Załóżmy, że chcemy wykryć na obrazie litery, które zawierają długie pionowe fragmenty. W pierwszym podejściu stosujemy morfologiczne otwarcie z maską pionową o wysokości 51 pikseli (taka jest średnia wysokość liter na obrazie – `np.ones((51,1))`. Sprawdź rezultat takiej operacji.\n",
        "- Detekcja wprawdzie sie udała, ale otrzymujemy tylko pionowe kreski.\n",
        "- Rozwiązaniem jest rekonstrukcja – jako marker wybieramy obraz oryginalny poddany erozji. Maskę stanowi obraz oryginalny. Samodzielnie dobierz element strukturalny.\n",
        "- Zaimplementuj rekonstrukcję i porównaj efekt otwarcia i rekonstrukcji.\n"
      ]
    },
    {
      "cell_type": "code",
      "execution_count": null,
      "metadata": {
        "id": "6oy1-pqdKHG3"
      },
      "outputs": [],
      "source": [
        "text = cv2.imread('text.bmp', cv2.IMREAD_GRAYSCALE)\n",
        "plt.imshow(text, 'gray')\n",
        "plt.axis('off')\n",
        "plt.show()"
      ]
    },
    {
      "cell_type": "code",
      "source": [
        "mask = np.ones((51, 1), np.uint8)\n",
        "otwarcie = cv2.morphologyEx(text, cv2.MORPH_OPEN, mask)\n",
        "plt.imshow(otwarcie, 'gray')\n",
        "plt.axis('off')\n",
        "plt.show()"
      ],
      "metadata": {
        "id": "4d132pSlEpnO"
      },
      "execution_count": null,
      "outputs": []
    },
    {
      "cell_type": "code",
      "source": [
        "marker = cv2.erode(text, mask)\n",
        "element = cv2.getStructuringElement(cv2.MORPH_RECT, (3, 3))\n",
        "while True:\n",
        "  temp = cv2.dilate(marker, element)\n",
        "  temp = cv2.bitwise_and(temp, text)\n",
        "  if (np.array_equal(temp, marker)):\n",
        "    break\n",
        "  marker = temp.copy()\n",
        "plt.imshow(marker, 'gray')\n",
        "plt.axis('off')\n",
        "plt.show()"
      ],
      "metadata": {
        "id": "l_FOO5TTE2tr"
      },
      "execution_count": null,
      "outputs": []
    },
    {
      "cell_type": "markdown",
      "metadata": {
        "id": "x_irwB7fKHG3"
      },
      "source": [
        "## Operacje morfologiczne dla obrazów w skali szarości\n",
        "\n",
        "Wszystkie dotychczasowe operacje (oprócz transformacji trafi, nie trafi) mają swoje odpowieniki dla obrazów w skali szarości. Konieczne jest tylko podanie definicji erozji i dylatacji w nieco innej formie:\n",
        "- Erozja – filtr minimalny.\n",
        "- Dylatacja – filtr maksymalny.\n",
        "\n",
        "\n",
        "1. Wczytaj obraz ferrari.bmp i wykonaj operacje morfologiczne: erozję i dylatację. Element strukturalny ustal na kwadrat 3×3. Oblicz też różnicę pomiędzy obrazem po dylatacji a po erozji – czyli tzw. gradient morfologiczny. Rezultaty wyświetl na wspólnym wykresie.\n",
        "2. Otwarcie to tłumienie jasnych detali na obrazie. Zamkniecie to tłumienie ciemnych detali na obrazie. Potwierdź powyższe stwierdzenia wykonując obie operacje na obrazie _ferrari_.\n",
        "3. Wykonaj operacje top-hat i bottom-hat `cv2.morphologyEx(img, cv2.MORPH_TOPHAT, strel)` oraz `cv2.morphologyEx(img, cv2.MORPH_BLACKHAT, strel)` na obrazie _ferrari_. Jakie obszary udało sie wykryć za pomocą tej operacji? Z jakich operacji składa sie filtr top-hat?\n",
        "4. Wczytaj obraz rice.png (z laboratorium o binaryzacji). Wyświetl go. Zwróć uwage na niejednorodne oświetlenie. Wykonaj operacje top-hat z dużym elementem strukturalnym (np. koło o rozmiarze 10) na tym obrazie. Wynik wyświetl. Co stało się z niejednorodnością oświetlenia?"
      ]
    },
    {
      "cell_type": "code",
      "execution_count": null,
      "metadata": {
        "pycharm": {
          "name": "#%%\n"
        },
        "id": "jmp6zrXkKHG4"
      },
      "outputs": [],
      "source": [
        "ferari = cv2.imread('ferrari.bmp', cv2.IMREAD_GRAYSCALE)\n",
        "plt.imshow(ferari, 'gray')\n",
        "plt.axis('off')\n",
        "plt.show()"
      ]
    },
    {
      "cell_type": "code",
      "source": [
        "morf(ferari, kwadrat)"
      ],
      "metadata": {
        "id": "xM5bfdMIINWq"
      },
      "execution_count": null,
      "outputs": []
    },
    {
      "cell_type": "code",
      "source": [
        "erozja_ferari = cv2.erode(ferari, kwadrat)\n",
        "dylatacja_ferari = cv2.dilate(ferari, kwadrat)\n",
        "gradient = dylatacja_ferari - erozja_ferari\n",
        "\n",
        "f, axs = plt.subplots(1,4, figsize = (20,20))\n",
        "axs[0].imshow(ferari, 'gray')\n",
        "axs[0].set_title('original')\n",
        "axs[0].axis('off')\n",
        "axs[1].imshow(erozja_ferari, 'gray')\n",
        "axs[1].set_title('erozja')\n",
        "axs[1].axis('off')\n",
        "axs[2].imshow(dylatacja_ferari, 'gray')\n",
        "axs[2].set_title('dylatacja')\n",
        "axs[2].axis('off')\n",
        "axs[3].imshow(gradient, 'gray')\n",
        "axs[3].set_title('roznica')\n",
        "axs[3].axis('off')\n",
        "plt.show()"
      ],
      "metadata": {
        "id": "YXnibPwVIY4h"
      },
      "execution_count": null,
      "outputs": []
    },
    {
      "cell_type": "code",
      "source": [
        "top_hat = cv2.morphologyEx(ferari, cv2.MORPH_TOPHAT, kwadrat)\n",
        "bottom_hat = cv2.morphologyEx(ferari, cv2.MORPH_BLACKHAT, kwadrat)\n",
        "f, axs = plt.subplots(1,3, figsize = (20,20))\n",
        "axs[0].imshow(ferari, 'gray')\n",
        "axs[0].set_title('original')\n",
        "axs[0].axis('off')\n",
        "axs[1].imshow(top_hat, 'gray')\n",
        "axs[1].set_title('top hat')\n",
        "axs[1].axis('off')\n",
        "axs[2].imshow(bottom_hat, 'gray')\n",
        "axs[2].set_title('bottom hat')\n",
        "axs[2].axis('off')\n",
        "plt.show()"
      ],
      "metadata": {
        "id": "m14efYr0JCef"
      },
      "execution_count": null,
      "outputs": []
    },
    {
      "cell_type": "code",
      "source": [
        "rice = cv2.imread('rice.png', cv2.IMREAD_GRAYSCALE)\n",
        "plt.imshow(rice, 'gray')\n",
        "plt.axis('off')\n",
        "plt.show()"
      ],
      "metadata": {
        "id": "xhx_XVEGKCw_"
      },
      "execution_count": null,
      "outputs": []
    },
    {
      "cell_type": "code",
      "source": [
        "kolo = cv2.getStructuringElement(cv2.MORPH_ELLIPSE, (10, 10))\n",
        "top_hat_rice = cv2.morphologyEx(rice, cv2.MORPH_TOPHAT, kolo)\n",
        "plt.imshow(top_hat_rice, 'gray')\n",
        "plt.axis('off')\n",
        "plt.show()"
      ],
      "metadata": {
        "id": "sZqwYPZJKHRG"
      },
      "execution_count": null,
      "outputs": []
    },
    {
      "cell_type": "markdown",
      "metadata": {
        "id": "qIwoiXs-KHG4"
      },
      "source": [
        "## Przykład zastosowania morfologii\n",
        "\n",
        "1. Wczytaj obraz calculator.bmp. Wyświetl go. Zadanie do realizacji: wyizolować tekst na klawiszach kalkulatora.\n",
        "2. W pierwszym kroku usunięte zostaną poziome odbicia znajdujące się na górnej krawędzi każdego z klawiszy. Wykorzystamy fakt, że odbicie jest dłuższe niż jakikolwiek pojedynczy znak. Wykonujemy otwarcie przez rekonstrukcję (można wykorzystać kod z wcześniejszego zadania, ale tym razem mamy do czynienia z obrazem w skali szarości zamiast z binarnym – proszę się zastanowić, jaka operacja jest odpowiednikiem operacji AND?):\n",
        "  - początkowo wykonujemy erozję z elementem strukturalnym w postaci poziomej linii — `np.ones((1,71))`,\n",
        "  - następnie dokonujemy rekonstrukcji: marker – obraz po erozji, maska – obraz oryginalny,\n",
        "  - wynik operacji wyświetl. Dla porównania wyświetl wynik klasycznego otwarcia z takim samym elementem strukturalnym. W czym otwarcie przez rekonstrukcję jest lepsze od klasycznego?\n",
        "3. W poprzednim kroku (tj. w wyniku otwarcia przez rekonstrukcję) uzyskaliśmy obraz tła. Należy go teraz odjąć od obrazu oryginalnego. Ten rodzaj operacji można nazwać top-hat poprzez rekonstrukcję. Wynik wyświetl. Dla porównania wyświetl wynik klasycznej operacji top-hat – różnicy miedzy obrazem oryginalnym a obrazem po klasycznym otwarciu.\n",
        "4. W podobny sposób należy zlikwidować odblaski pionowe:\n",
        "  - erozja z elementem strukturalnym w postaci poziomej linii – `np.ones((1,11))` – zostaną zachowane wszystkie znaki (bo prawie wszystkie są szersze). Uwaga. Operacje wykonujemy na uzyskanym w kroku 3 rezultacie odjęcia od obrazu oryginalnego, obrazu po rekonstrukcji.\n",
        "  - rekonstrukcja: marker – obraz po erozji, maska – obraz z punktu 3 (różnica oryginalnego i tła),\n",
        "  - wynik wyświetl.\n",
        "5. Rezultat jest niemal satysfakcjonujący, ale wystąpił problem z cienkimi pionowymi elementami napisów – np. I na klawiszu ASIN. Wykorzystując fakt, że usunięte znaki znajdują się w bezpośrednim sąsiedztwie istniejących znaków wykonujemy następujące operacje:\n",
        "  - dylatacja z elementem `np.ones((1,21))`,\n",
        "  - rekonstrukcja z markerem w postaci – minimum(obraz po dylatacji z punktu powyżej, obraz uzyskany w punkcie 3, tj. różnica oryginalnego i tła) oraz maską – obraz z pkt. 3.\n",
        "6. Rezultat wyświetl. Czy za pomocą zaproponowanych operacji udało się uzyskać zamierzony efekt – ekstrakcję napisów?\n"
      ]
    },
    {
      "cell_type": "code",
      "execution_count": null,
      "metadata": {
        "pycharm": {
          "name": "#%%\n"
        },
        "id": "DIy6L9S7KHG5"
      },
      "outputs": [],
      "source": [
        "calculator = cv2.imread('calculator.bmp', cv2.IMREAD_GRAYSCALE)\n",
        "plt.imshow(calculator, 'gray')\n",
        "plt.axis('off')"
      ]
    },
    {
      "cell_type": "code",
      "source": [
        "def morphological_reconstruction(marker, mask, kernel):\n",
        "    previous_marker = marker.copy()\n",
        "    while True:\n",
        "        dilated_marker = cv2.dilate(previous_marker, kernel)\n",
        "        new_marker = cv2.min(dilated_marker, mask)\n",
        "        if np.array_equal(new_marker, previous_marker):\n",
        "            break\n",
        "        previous_marker = new_marker\n",
        "    return new_marker"
      ],
      "metadata": {
        "id": "-XS5ChiWLeyT"
      },
      "execution_count": null,
      "outputs": []
    },
    {
      "cell_type": "code",
      "source": [
        "img = cv2.imread(\"calculator.bmp\", cv2.IMREAD_GRAYSCALE)\n",
        "\n",
        "kernel_horizontal = np.ones((1, 71), dtype=np.uint8)\n",
        "marker_horizontal = cv2.erode(img, kernel_horizontal)\n",
        "result_horizontal = morphological_reconstruction(marker_horizontal, img, np.ones((3, 3), dtype=np.uint8))\n",
        "\n",
        "img_open = cv2.morphologyEx(img, cv2.MORPH_OPEN, kernel_horizontal)\n",
        "\n",
        "img_top_hat_reconstructed = cv2.subtract(img, result_horizontal)\n",
        "\n",
        "img_top_hat = cv2.morphologyEx(img, cv2.MORPH_TOPHAT, kernel_horizontal)\n",
        "\n",
        "kernel_vertical = np.ones((1, 11), dtype=np.uint8)\n",
        "marker_vertical = cv2.erode(img_top_hat_reconstructed, kernel_vertical)\n",
        "result_vertical = morphological_reconstruction(marker_vertical, img_top_hat_reconstructed, np.ones((3, 3), dtype=np.uint8))\n",
        "\n",
        "dilated = cv2.dilate(result_vertical, np.ones((1, 21), dtype=np.uint8))\n",
        "\n",
        "img_final = morphological_reconstruction(\n",
        "    cv2.min(dilated, img_top_hat),\n",
        "    img_top_hat_reconstructed,\n",
        "    np.ones((3, 3), dtype=np.uint8)\n",
        ")"
      ],
      "metadata": {
        "id": "BCpHZrboK6Qa"
      },
      "execution_count": null,
      "outputs": []
    },
    {
      "cell_type": "code",
      "source": [
        "plt.figure(figsize=(10, 10))\n",
        "\n",
        "plt.subplot(4, 2, 1)\n",
        "plt.imshow(img, cmap=\"gray\")\n",
        "plt.title(\"Obraz orginalny\")\n",
        "plt.axis(\"off\")\n",
        "\n",
        "plt.subplot(4, 2, 3)\n",
        "plt.imshow(img_open, cmap=\"gray\")\n",
        "plt.title(\"Otwarcie klasyczne\")\n",
        "plt.axis(\"off\")\n",
        "\n",
        "plt.subplot(4, 2, 4)\n",
        "plt.imshow(result_horizontal, cmap=\"gray\")\n",
        "plt.title(\"Otwarcie z rekonstrukcja\")\n",
        "plt.axis(\"off\")\n",
        "\n",
        "plt.subplot(4, 2, 5)\n",
        "plt.imshow(img_top_hat, cmap=\"gray\")\n",
        "plt.title(\"Top-hat klasyczne\")\n",
        "plt.axis(\"off\")\n",
        "\n",
        "plt.subplot(4, 2, 6)\n",
        "plt.imshow(img_top_hat_reconstructed, cmap=\"gray\")\n",
        "plt.title(\"Top-hat z rekonstrukcja\")\n",
        "plt.axis(\"off\")\n",
        "\n",
        "plt.subplot(4, 2, 7)\n",
        "plt.imshow(result_vertical, cmap=\"gray\")\n",
        "plt.title(\"Pionowe kreski usuniete\")\n",
        "plt.axis(\"off\")\n",
        "\n",
        "plt.subplot(4, 2, 8)\n",
        "plt.imshow(img_final, cmap=\"gray\")\n",
        "plt.title(\"Finalne\")\n",
        "plt.axis(\"off\")\n",
        "\n",
        "plt.tight_layout()\n",
        "plt.show()"
      ],
      "metadata": {
        "id": "Wpyz3t_HSPDS"
      },
      "execution_count": null,
      "outputs": []
    }
  ],
  "metadata": {
    "celltoolbar": "Raw Cell Format",
    "kernelspec": {
      "display_name": "Python 3",
      "language": "python",
      "name": "python3"
    },
    "language_info": {
      "codemirror_mode": {
        "name": "ipython",
        "version": 3
      },
      "file_extension": ".py",
      "mimetype": "text/x-python",
      "name": "python",
      "nbconvert_exporter": "python",
      "pygments_lexer": "ipython3",
      "version": "3.9.0"
    },
    "colab": {
      "provenance": []
    }
  },
  "nbformat": 4,
  "nbformat_minor": 0
}