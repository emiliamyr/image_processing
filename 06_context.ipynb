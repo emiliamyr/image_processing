{
  "cells": [
    {
      "cell_type": "markdown",
      "metadata": {
        "id": "PzvFXKTPuTVj"
      },
      "source": [
        "# Przetwarzanie wstępne. Filtracja kontekstowa.\n",
        "\n",
        "\n",
        "### Cel:\n",
        "- zapoznanie z pojęciem kontekstu / filtracji kontekstowej,\n",
        "- zapoznanie z pojęciem konwolucji (splotu),\n",
        "- zapoznanie z wybranymi filtrami:\n",
        "\t- filtry liniowe dolnoprzepustowe:\n",
        "\t\t- filtr uśredniający,\n",
        "\t\t- filtr Gaussa.\n",
        "\t- filtry nielinowe:\n",
        "\t\t- mediana,\n",
        "\t\t- mediana dla obrazów kolorowych.\n",
        "\t- filtry liniowe górnoprzepustowe:\n",
        "\t\t\t- laplasjan,\n",
        "\t\t\t- operator Robersta, Prewitta, Sobela.\n",
        "- zadanie domowe: adaptacyjna filtracja medianowa.\n",
        "\n",
        "### Filtry liniowe uśredniające (dolnoprzepustowe)\n",
        "\n",
        "Jest to podstawowa rodzina filtrów stosowana w cyfrowym przetwarzaniu obrazów.\n",
        "Wykorzystuje się je w celu \"rozmazania\" obrazu i tym samym redukcji szumów (zakłóceń) na obrazie.\n",
        "Filtr określony jest przez dwa parametry: rozmiar maski (ang. _kernel_) oraz wartości współczynników maski.\n",
        "\n",
        "Warto zwrócić uwagę, że omawiane w niniejszym rozdziale operacje generują nową wartość piksela na podstawie pewnego fragmentu obrazu (tj. kontekstu), a nie jak operacje punktowe tylko na podstawie jednego piksela.\n",
        "\n",
        "\n",
        "1. Wczytaj obraz _plansza.png_.\n",
        "W dalszej części ćwiczenia sprawdzenie działania filtracji dla innych obrazów sprowadzi się do wczytania innego pliku.\n",
        "\n",
        "2. Podstawowa funkcja to `cv2.filter2D`  - realizacja filtracji konwolucyjnej.\n",
        "   Proszę sprawdzić jej dokumentację i zwrócić uwagę na obsługę problemu brzegowego (na krawędziach istnieją piksele dla których nie da się wyznaczyć otoczenia).\n",
        "\n",
        "  Uwaga. Problem ten można też rozwiązać z użyciem funkcji `signal.convolve2d` z biblioteki _scipy_ (`from scipy import signal`).\n",
        "\n",
        "3. Stwórz podstawowy filtr uśredniający o rozmiarze $3 \\times 3$ -- za pomocą funkcji `np.ones`. Wykonaj konwolucję na wczytanym obrazie. Na wspólnym rysunku wyświetl obraz oryginalny, po filtracji oraz moduł z różnicy.\n",
        "\n",
        "4. Przeanalizuj otrzymane wyniki. Jakie elementy zawiera obraz \"moduł z różnicy\"? Co na tej podstawie można powiedzieć o filtracji dolnoprzepustowej?"
      ]
    },
    {
      "cell_type": "code",
      "execution_count": null,
      "metadata": {
        "id": "S4Cq3WvAuTVm"
      },
      "outputs": [],
      "source": [
        "import cv2\n",
        "import os\n",
        "import requests\n",
        "from matplotlib import pyplot as plt\n",
        "import numpy as np\n",
        "from scipy import signal\n",
        "\n",
        "url = 'https://raw.githubusercontent.com/vision-agh/poc_sw/master/06_Context/'\n",
        "\n",
        "fileNames = [\"jet.png\", \"kw.png\", \"moon.png\", \"lenaSzum.png\", \"lena.png\", \"plansza.png\"]\n",
        "for fileName in fileNames:\n",
        "  if not os.path.exists(fileName):\n",
        "      r = requests.get(url + fileName, allow_redirects=True)\n",
        "      open(fileName, 'wb').write(r.content)\n",
        "\n"
      ]
    },
    {
      "cell_type": "markdown",
      "metadata": {
        "id": "10zj2sOTuTVo"
      },
      "source": [
        "5. Na wspólnym rysunku wyświetl wyniki filtracji uśredniającej z oknem o rozmiarze 3, 5, 9, 15 i 35.\n",
        "Wykorzystaj polecenie `plt.subplot`.\n",
        "Przeanalizuj wpływ rozmiaru maski na wynik."
      ]
    },
    {
      "cell_type": "code",
      "execution_count": null,
      "metadata": {
        "id": "Cmf-hkCruTVo"
      },
      "outputs": [],
      "source": [
        "def dolnoprzepustowa(obraz, rozmiar_maski):\n",
        "  image = cv2.imread(obraz, cv2.IMREAD_GRAYSCALE)\n",
        "  kernel = np.ones((rozmiar_maski, rozmiar_maski), np.float32) / (rozmiar_maski * rozmiar_maski)\n",
        "  img = cv2.filter2D(src=image, ddepth=-1, kernel=kernel)\n",
        "\n",
        "  plt.figure(figsize=(15, 6))\n",
        "  plt.subplot(1, 3, 1)\n",
        "  plt.axis(\"off\")\n",
        "  plt.imshow(image, 'gray', vmin=0, vmax=256)\n",
        "  plt.subplot(1, 3, 2)\n",
        "  plt.axis(\"off\")\n",
        "  plt.imshow(img, 'gray', vmin=0, vmax=256)\n",
        "  plt.subplot(1, 3, 3)\n",
        "  plt.axis(\"off\")\n",
        "  plt.imshow(np.abs(img - image), 'gray', vmin=0, vmax=256)\n",
        "  plt.show()"
      ]
    },
    {
      "cell_type": "code",
      "source": [
        "dolnoprzepustowa(\"plansza.png\", 3)\n",
        "dolnoprzepustowa(\"plansza.png\", 5)\n",
        "dolnoprzepustowa(\"plansza.png\", 9)\n",
        "dolnoprzepustowa(\"plansza.png\", 15)\n",
        "dolnoprzepustowa(\"plansza.png\", 35)"
      ],
      "metadata": {
        "id": "30-NPyvJcMvw"
      },
      "execution_count": null,
      "outputs": []
    },
    {
      "cell_type": "markdown",
      "metadata": {
        "id": "zHlUB4tZuTVo"
      },
      "source": [
        "6. Wczytaj obraz _lena.png_.\n",
        "Zaobserwuj efekty filtracji dolnoprzepustowej dla obrazu rzeczywistego."
      ]
    },
    {
      "cell_type": "code",
      "execution_count": null,
      "metadata": {
        "id": "Ed9hL_iWuTVp"
      },
      "outputs": [],
      "source": [
        "dolnoprzepustowa(\"lena.png\", 3)\n",
        "dolnoprzepustowa(\"lena.png\", 5)\n",
        "dolnoprzepustowa(\"lena.png\", 9)\n",
        "dolnoprzepustowa(\"lena.png\", 15)\n",
        "dolnoprzepustowa(\"lena.png\", 35)"
      ]
    },
    {
      "cell_type": "markdown",
      "metadata": {
        "id": "t-2FnMuvuTVp"
      },
      "source": [
        "7. Niekorzystny efekt towarzyszący wykonanym filtracjom dolnoprzepustowym to utrata ostrości.\n",
        "Częściowo można go zniwelować poprzez odpowiedni dobór maski.\n",
        "Wykorzystaj maskę:  `M = np.array([1 2 1; 2 4 2; 1 2 1])`.\n",
        "Przed obliczeniami należy jeszcze wykonać normalizację - podzielić każdy element maski przez sumę wszystkich elementów: `M = M/sum(sum(M));`.\n",
        "Tak przygotowaną maskę wykorzystaj w konwolucji - wyświetl wyniki tak jak wcześniej.\n",
        "Możliwe jest też wykorzystywanie innych masek - współczynniki można dopasowywać do konkretnego problemu."
      ]
    },
    {
      "cell_type": "code",
      "execution_count": null,
      "metadata": {
        "id": "9-wJsEWcuTVp"
      },
      "outputs": [],
      "source": [
        "M = np.array([[1, 2, 1], [2, 4, 2], [1, 2, 1]])\n",
        "M = M/sum(sum(M))\n",
        "\n",
        "image = cv2.imread(\"lena.png\", cv2.IMREAD_GRAYSCALE)\n",
        "img = cv2.filter2D(src=image, ddepth=-1, kernel=M)\n",
        "\n",
        "plt.figure(figsize=(15, 6))\n",
        "plt.subplot(1, 3, 1)\n",
        "plt.axis(\"off\")\n",
        "plt.imshow(image, 'gray', vmin=0, vmax=256)\n",
        "plt.subplot(1, 3, 2)\n",
        "plt.axis(\"off\")\n",
        "plt.imshow(img, 'gray', vmin=0, vmax=256)\n",
        "plt.subplot(1, 3, 3)\n",
        "plt.axis(\"off\")\n",
        "plt.imshow(np.abs(img - image), 'gray', vmin=0, vmax=256)\n",
        "plt.show()"
      ]
    },
    {
      "cell_type": "markdown",
      "metadata": {
        "id": "ybfc6TZCuTVq"
      },
      "source": [
        "8. Skuteczną i często wykorzystywaną maską jest tzw. maska Gasussa.\n",
        "Jest to zbiór liczb, które aproksymują dwuwymiarowy rozkład Gaussa.\n",
        "Parametrem jest odchylenie standardowe i rozmiar maski.\n",
        "\n",
        "9. Wykorzystując przygotowaną funkcję `fgaussian` stwórz maskę o rozmiarze $5 \\times 5$ i odchyleniu standardowym 0.5.\n",
        "  Wykorzystując funkcję `mesh` zwizualizuj filtr.\n",
        "  Sprawdź jak parametr ``odchylenie standardowe'' wpływa na ``kształt'' filtru.\n",
        "\n",
        "  Uwaga. W OpenCV dostępna jest *dedykowana* funkcja do filtracji Gaussa - `GaussianBlur`.\n",
        "  Proszę na jednym przykładzie porównać jej działanie z użytym wyżej rozwiązaniem.\n",
        "\n",
        "10. Wykonaj filtrację dla wybranych (2--3) wartości odchylenia standardowego.\n"
      ]
    },
    {
      "cell_type": "code",
      "execution_count": null,
      "metadata": {
        "scrolled": true,
        "id": "ZUTDX8IluTVq"
      },
      "outputs": [],
      "source": [
        "def fgaussian(size, sigma):\n",
        "     m = n = size\n",
        "     h, k = m//2, n//2\n",
        "     x, y = np.mgrid[-h:h+1, -k:k+1]\n",
        "     g = np.exp(-(x**2 + y**2)/(2*sigma**2))\n",
        "     return g /g.sum()\n",
        "\n",
        "\n",
        "def mesh(fun, size):\n",
        "    fig = plt.figure()\n",
        "    ax = fig.add_subplot(projection = '3d')\n",
        "\n",
        "\n",
        "    X = np.arange(-size//2, size//2, 1)\n",
        "    Y = np.arange(-size//2, size//2, 1)\n",
        "    X, Y = np.meshgrid(X, Y)\n",
        "    Z = fun\n",
        "\n",
        "    ax.plot_surface(X, Y, Z)\n",
        "\n",
        "    plt.show()\n",
        "\n",
        "mesh(fgaussian(5, 0.5), 5)\n",
        "mesh(fgaussian(5, 1), 5)\n",
        "mesh(fgaussian(5, 2), 5)"
      ]
    },
    {
      "cell_type": "code",
      "source": [
        "filter = fgaussian(5, 0.5)\n",
        "image = cv2.imread(\"lena.png\", cv2.IMREAD_GRAYSCALE)\n",
        "img = cv2.filter2D(src=image, ddepth=-1, kernel=filter)\n",
        "\n",
        "plt.figure(figsize=(15, 6))\n",
        "plt.subplot(1, 3, 1)\n",
        "plt.axis(\"off\")\n",
        "plt.imshow(image, 'gray', vmin=0, vmax=256)\n",
        "plt.subplot(1, 3, 2)\n",
        "plt.axis(\"off\")\n",
        "plt.imshow(img, 'gray', vmin=0, vmax=256)\n",
        "plt.subplot(1, 3, 3)\n",
        "plt.axis(\"off\")\n",
        "plt.imshow(np.abs(img - image), 'gray', vmin=0, vmax=256)\n",
        "plt.show()\n",
        "\n",
        "filter = fgaussian(5, 5)\n",
        "image = cv2.imread(\"lena.png\", cv2.IMREAD_GRAYSCALE)\n",
        "img = cv2.filter2D(src=image, ddepth=-1, kernel=filter)\n",
        "\n",
        "plt.figure(figsize=(15, 6))\n",
        "plt.subplot(1, 3, 1)\n",
        "plt.axis(\"off\")\n",
        "plt.imshow(image, 'gray', vmin=0, vmax=256)\n",
        "plt.subplot(1, 3, 2)\n",
        "plt.axis(\"off\")\n",
        "plt.imshow(img, 'gray', vmin=0, vmax=256)\n",
        "plt.subplot(1, 3, 3)\n",
        "plt.axis(\"off\")\n",
        "plt.imshow(np.abs(img - image), 'gray', vmin=0, vmax=256)\n",
        "plt.show()"
      ],
      "metadata": {
        "id": "zlj6zT6UjKBW"
      },
      "execution_count": null,
      "outputs": []
    },
    {
      "cell_type": "markdown",
      "metadata": {
        "id": "bkN2AOHruTVr"
      },
      "source": [
        "### Filtry nieliniowe -- mediana\n",
        "\n",
        "Filtry rozmywające redukują szum, ale niekorzystnie wpływają na ostrość obrazu.\n",
        "Dlatego często wykorzystuje się filtry nieliniowe - np. filtr medianowy (dla przypomnienia: mediana - środkowa wartość w posortowanym ciągu liczb).\n",
        "\n",
        "Podstawowa różnica pomiędzy filtrami liniowymi, a nieliniowymi polega na tym, że przy filtracji liniowej na nową wartość piksela ma wpływ wartość wszystkich pikseli z otoczenia (np. uśrednianie, czasem ważone), natomiast w przypadku filtracji nieliniowej jako nowy piksel wybierana jest któraś z wartości otoczenia - według jakiegoś wskaźnika (wartość największa, najmniejsza czy właśnie mediana).\n",
        "\n",
        "\n",
        "1. Wczytaj obraz _lenaSzum.png_ (losowe 10% pikseli białych lub czarnych - tzw. zakłócenia impulsowe). Przeprowadź filtrację uśredniającą z rozmiarem maski 3x3. Wyświetl, podobnie jak wcześniej, oryginał, wynik filtracji i moduł z różnicy. Wykorzystując funkcję ``cv2.medianBlur` wykonaj filtrację medianową _lenaSzum.png_ (z rozmiarem maski $3 \\times 3$). Wyświetl, podobnie jak wcześniej, oryginał, wynik filtracji i moduł z różnicy. Która filtracja lepiej radzi sobie z tego typu szumem?\n",
        "\n",
        "  Uwaga. Taki sam efekt da również użycie funkcji `signal.medfilt2d`.\n"
      ]
    },
    {
      "cell_type": "code",
      "execution_count": null,
      "metadata": {
        "id": "_ICkvyp3uTVr"
      },
      "outputs": [],
      "source": [
        "def medianowa(obraz, rozmiar_maski):\n",
        "  image = cv2.imread(obraz, cv2.IMREAD_GRAYSCALE)\n",
        "  img = cv2.medianBlur(image, rozmiar_maski)\n",
        "\n",
        "  plt.figure(figsize=(15, 6))\n",
        "  plt.subplot(1, 3, 1)\n",
        "  plt.axis(\"off\")\n",
        "  plt.imshow(image, 'gray', vmin=0, vmax=256)\n",
        "  plt.subplot(1, 3, 2)\n",
        "  plt.axis(\"off\")\n",
        "  plt.imshow(img, 'gray', vmin=0, vmax=256)\n",
        "  plt.subplot(1, 3, 3)\n",
        "  plt.axis(\"off\")\n",
        "  plt.imshow(np.abs(img - image), 'gray', vmin=0, vmax=256)\n",
        "  plt.show()\n",
        "\n",
        "medianowa(\"lenaSzum.png\", 3)"
      ]
    },
    {
      "cell_type": "markdown",
      "metadata": {
        "id": "iSdorMgxuTVr"
      },
      "source": [
        "2. Przeprowadź filtrację uśredniającą, a następnie medianową obrazu _lena.png_.\n",
        "   Wyniki porównaj - dla obu wyświetl: oryginał, wynik filtracji i moduł z różnicy.\n",
        "   Szczególną uwagę zwróć na ostrość i krawędzie.\n",
        "   W której filtracji krawędzie zostają lepiej zachowane?"
      ]
    },
    {
      "cell_type": "code",
      "execution_count": null,
      "metadata": {
        "id": "_g2nnTPruTVs"
      },
      "outputs": [],
      "source": [
        "dolnoprzepustowa(\"lena.png\", 5)\n",
        "medianowa(\"lena.png\", 5)"
      ]
    },
    {
      "cell_type": "markdown",
      "metadata": {
        "id": "OOMWoBCJuTVs"
      },
      "source": [
        "3. Ciekawy efekt można uzyskać wykonując filtrację medianową wielokrotnie. Określa się go mianem  posteryzacji.  W wyniku przetwarzania z obrazka usunięte zostają detale, a duże obszary uzyskują tą samą wartość jasności.  Wykonaj operację mediany $5 \\times 5$ na obrazie _lena.png_ 10-krotnie. (wykorzystaj np. pętlę `for`).\n",
        "\n",
        "\n",
        "Inne filtry nieliniowe:\n",
        "- filtr modowy - moda (dominanta) zamiast mediany,\n",
        "- filtr olimpijski - średnia z podzbioru otoczenia (bez wartości ekstremalnych),\n",
        "- hybrydowy filtr medianowy - mediana obliczana osobno w różnych podzbiorach otoczenia (np. kształt ``x'',``+''), a jako wynik brana jest mediana ze zbioru wartość elementu centralnego, mediana z ``x'' i mediana z ``+'',\n",
        "- filtr minimalny i maksymalny (będą omówione przy okazji operacji morfologicznych w dalszej części kursu).\n",
        "\n",
        "\n",
        "Warto zdawać sobie sprawę, z szerokich możliwości dopasowywania rodzaju filtracji do konkretnego rozważanego problemu i rodzaju zaszumienia występującego na obrazie."
      ]
    },
    {
      "cell_type": "code",
      "execution_count": null,
      "metadata": {
        "id": "KSFMyFBluTVt"
      },
      "outputs": [],
      "source": [
        "lena = cv2.imread(\"lena.png\", cv2.IMREAD_GRAYSCALE)\n",
        "lena1 = lena.copy()\n",
        "for i in range(10):\n",
        "\n",
        "  lena = cv2.medianBlur(lena1, 5)\n",
        "\n",
        "  plt.figure(figsize=(15, 6))\n",
        "  plt.subplot(1, 3, 1)\n",
        "  plt.axis(\"off\")\n",
        "  plt.imshow(lena1, 'gray', vmin=0, vmax=256)\n",
        "  plt.subplot(1, 3, 2)\n",
        "  plt.axis(\"off\")\n",
        "  plt.imshow(lena, 'gray', vmin=0, vmax=256)\n",
        "  plt.subplot(1, 3, 3)\n",
        "  plt.axis(\"off\")\n",
        "  plt.imshow(np.abs(lena - lena1), 'gray', vmin=0, vmax=256)\n",
        "  plt.show()\n",
        "\n",
        "  lena1 = lena.copy()"
      ]
    },
    {
      "cell_type": "markdown",
      "metadata": {
        "id": "qPKUMojBuTVt"
      },
      "source": [
        "## Filtry liniowe górnoprzepustowe (wyostrzające, wykrywające krawędzie)\n",
        "\n",
        "Zadaniem filtrów górnoprzepustowych jest wydobywanie z obrazu składników odpowiedzialnych za szybkie zmiany jasności - konturów, krawędzi, drobnych elementów tekstury.\n",
        "\n",
        "### Laplasjan (wykorzystanie drugiej pochodnej obrazu)\n",
        "\n",
        "1. Wczytaj obraz _moon.png_.\n",
        "\n",
        "2. Wprowadź podstawową maskę laplasjanu:\n",
        "\\begin{equation}\n",
        "M =\n",
        "\\begin{bmatrix}\n",
        "0 & 1& 0 \\\\ 1 & -4 & 1 \\\\ 0 & 1 & 0\n",
        "\\end{bmatrix}\n",
        "\\end{equation}\n",
        "\n",
        "3. Przed rozpoczęciem obliczeń należy dokonać normalizacji maski - dla rozmiaru $3 \\times 3$ podzielić każdy element przez 9.\n",
        "   Proszę zwrócić uwagę, że nie można tu zastosować takiej samej normalizacji, jak dla filtrów dolnoprzepustowanych, gdyż skutkowałby to dzieleniem przez 0.\n",
        "\n",
        "4. Wykonaj konwolucję obrazu z maską (`c2.filter2D`). Przed wyświetleniem, wynikowy obraz należy poddać normalizacji (występują ujemne wartości). Najczęściej wykonuje się jedną z dwóch operacji:\n",
        "- skalowanie (np. poprzez dodatnie 128 do każdego z pikseli),\n",
        "- moduł (wartość bezwzględna).\n",
        "\n",
        "Wykonaj obie normalizacje.\n",
        "Na wspólnym wykresie wyświetl obraz oryginalny oraz przefiltrowany po obu normalizacjach."
      ]
    },
    {
      "cell_type": "code",
      "execution_count": null,
      "metadata": {
        "id": "iDE-NzUzuTVt"
      },
      "outputs": [],
      "source": [
        "moon = cv2.imread(\"moon.png\", cv2.IMREAD_GRAYSCALE)\n",
        "\n",
        "M = np.array([[0, 1, 0], [1, -4, 1], [0, 1, 0]])\n",
        "M = M/9\n",
        "\n",
        "moon_filtered = cv2.filter2D(src=moon, ddepth=-1, kernel=M)\n",
        "\n",
        "moon_abs = np.abs(moon_filtered)\n",
        "moon_scaled = moon_filtered + 128\n",
        "\n",
        "fig, axs = plt.subplots(1, 3, figsize=(15, 15))\n",
        "axs[0].imshow(moon, \"gray\")\n",
        "axs[0].set_title(\"original\")\n",
        "axs[0].axis(\"off\")\n",
        "axs[1].imshow(moon_scaled, \"gray\")\n",
        "axs[1].set_title(\"moon_scaled\")\n",
        "axs[1].axis(\"off\")\n",
        "axs[2].imshow(moon_abs, \"gray\")\n",
        "axs[2].set_title(\"moon_abs\")\n",
        "axs[2].axis(\"off\")"
      ]
    },
    {
      "cell_type": "markdown",
      "metadata": {
        "id": "jNAsSrd-uTVu"
      },
      "source": [
        "7. Efekt wyostrzenia uzyskuje się po odjęciu/dodaniu (zależy do maski) rezultatu filtracji laplasjanowej i oryginalnego obrazu. Wyświetl na jednym wykresie: obraz oryginalny, sumę oryginału i wyniku filtracji oraz różnicę (bezwzględną) oryginału i wyniku filtracji.\n",
        " Uwaga. Aby uniknąć artefaktów, należy obraz wejściowy przekonwertować do formatu ze znakiem.\n",
        "\n"
      ]
    },
    {
      "cell_type": "code",
      "execution_count": null,
      "metadata": {
        "id": "q2-IHdLjuTVu"
      },
      "outputs": [],
      "source": [
        "fig, axs = plt.subplots(1, 3, figsize=(15, 15))\n",
        "axs[0].imshow(moon, \"gray\")\n",
        "axs[0].set_title(\"original\")\n",
        "axs[0].axis(\"off\")\n",
        "axs[1].imshow(moon + moon_abs, \"gray\")\n",
        "axs[1].set_title(\"suma\")\n",
        "axs[1].axis(\"off\")\n",
        "axs[2].imshow(np.abs(moon - moon_abs), \"gray\")\n",
        "axs[2].set_title(\"roznica\")\n",
        "axs[2].axis(\"off\")"
      ]
    },
    {
      "cell_type": "markdown",
      "metadata": {
        "id": "s7UEkpUFuTVu"
      },
      "source": [
        "### Gradienty (wykorzystanie pierwszej pochodnej obrazu)\n",
        "\n",
        "1. Wczytaj obraz _kw.png_. Stwórz odpowiednie maski opisane w kolejnych punktach i dokonaj filtracji.\n",
        "2. Wykorzystując gradient Robertsa przeprowadź detekcję krawędzi - poprzez wykonanie konwolucji obrazu z daną maską:\n",
        "\\begin{equation}\n",
        "R1 = \\begin{bmatrix} 0 & 0 & 0 \\\\ -1 & 0 & 0 \\\\ 0 & 1 & 0 \\end{bmatrix}   \n",
        "R2 = \\begin{bmatrix} 0 & 0 & 0 \\\\ 0 & 0 & -1 \\\\ 0 & 1 & 0 \\end{bmatrix}\n",
        "\\end{equation}\n",
        "\n",
        "Wykorzystaj stworzony wcześniej kod (przy laplasjanie) - dwie metody normalizacji oraz sposób wyświetlania.\n",
        "\n",
        "3. Analogicznie przeprowadź detekcję krawędzi za pomocą gradientu Prewitta (pionowy i poziomy)\n",
        "\\begin{equation}\n",
        "P1 = \\begin{bmatrix} -1 & 0 & 1 \\\\ -1 & 0 & 1 \\\\ -1 & 0 & 1 \\end{bmatrix}   \n",
        "P2 = \\begin{bmatrix} -1 & -1 & -1 \\\\ 0 & 0 & 0 \\\\ 1 & 1 & 1 \\end{bmatrix}\n",
        "\\end{equation}\n",
        "\n",
        "4. Podobnie skonstruowany jest gradient Sobela (występuje osiem masek, zaprezentowane są dwie ``prostopadłe''):\n",
        "\\begin{equation}\n",
        "S1 = \\begin{bmatrix} -1 & 0 & 1 \\\\ -2 & 0 & 2 \\\\ -1 & 0 & 1 \\end{bmatrix}   \n",
        "S2 = \\begin{bmatrix} -1 & -2 & -1 \\\\ 0 & 0 & 0 \\\\ 1 & 2 & 1 \\end{bmatrix}\n",
        "\\end{equation}\n",
        "\n",
        "Przeprowadź detekcję krawędzi za pomocą gradientu Sobela."
      ]
    },
    {
      "cell_type": "code",
      "execution_count": null,
      "metadata": {
        "scrolled": true,
        "id": "BhwEYhsZuTVv"
      },
      "outputs": [],
      "source": [
        "kw = cv2.imread(\"kw.png\", cv2.IMREAD_GRAYSCALE)\n",
        "\n",
        "R1 = np.array([[0, 0, 0], [-1, 0, 0], [0, 1, 0]])\n",
        "R2 = np.array([[0, 0, 0], [0, 0, -1], [0, 1, 0]])\n",
        "P1 = np.array([[-1, 0, 1], [-1, 0, 1], [-1, 0, 1]])\n",
        "P2 = np.array([[-1, -1, -1], [0, 0, 0], [1, 1, 1]])\n",
        "S1 = np.array([[-1, 0, 1], [-2, 0, 2], [-1, 0, 1]])\n",
        "S2 = np.array([[-1, -2, -1], [0, 0, 0], [1, 2, 1]])\n",
        "\n",
        "\n",
        "\n",
        "def detekcjaKrawedzi(image, mask):\n",
        "    image_filtered = signal.convolve2d(image, mask, mode=\"same\")\n",
        "\n",
        "    image_normalized_lapsian_scaled = (image_filtered - np.min(image_filtered)) / (np.max(image_filtered) - np.min(image_filtered))\n",
        "    image_normalized_lapsian_abs = np.abs(image_filtered)\n",
        "\n",
        "    fig, axs = plt.subplots(1, 4, figsize=(15, 15))\n",
        "    axs[0].imshow(image, \"gray\")\n",
        "    axs[0].set_title(\"original\")\n",
        "    axs[0].axis(\"off\")\n",
        "    axs[1].imshow(image_filtered, \"gray\")\n",
        "    axs[1].set_title(\"image_filtered\")\n",
        "    axs[1].axis(\"off\")\n",
        "    axs[2].imshow(image_normalized_lapsian_scaled, \"gray\")\n",
        "    axs[2].set_title(\"image_normalized_lapsian_scaled\")\n",
        "    axs[2].axis(\"off\")\n",
        "    axs[3].imshow(image_normalized_lapsian_abs, \"gray\")\n",
        "    axs[3].set_title(\"image_normalized_lapsian_abs\")\n",
        "    axs[3].axis(\"off\")"
      ]
    },
    {
      "cell_type": "code",
      "source": [
        "detekcjaKrawedzi(kw, S1)\n",
        "detekcjaKrawedzi(kw, S2)"
      ],
      "metadata": {
        "id": "oeOK_QZ1MHbe"
      },
      "execution_count": null,
      "outputs": []
    },
    {
      "cell_type": "markdown",
      "metadata": {
        "id": "56RoscNzuTVv"
      },
      "source": [
        "5. Na podstawie dwóch ortogonalnych masek np. Sobela można stworzyć tzw. filtr kombinowany - pierwiastek kwadratowy z sumy kwadratów gradientów:\n",
        "\\begin{equation}\n",
        "OW = \\sqrt{(O * S1)^2 + (O * S2)^2}\n",
        "\\end{equation}\n",
        "gdzie:  $OW$ - obraz wyjściowy, $O$ - obraz oryginalny (wejściowy), $S1,S2$ - maski Sobela, $*$ - operacja konwolucji.\n",
        "\n",
        "Zaimplementuj filtr kombinowany.\n",
        "\n",
        "Uwaga. Proszę zwrócić uwagę na konieczność zmiany formatu danych obrazu wejściowego - na typ znakiem\n",
        "\n"
      ]
    },
    {
      "cell_type": "code",
      "execution_count": null,
      "metadata": {
        "id": "pobro8ZkuTVv"
      },
      "outputs": [],
      "source": [
        "def filterComb(image, mask1, mask2: np.ndarray):\n",
        "    image_1 = signal.convolve2d(image, mask1, mode=\"same\")\n",
        "    image_2 = signal.convolve2d(image, mask2, mode=\"same\")\n",
        "    img_comb = np.sqrt(image_1**2 + image_2**2)\n",
        "\n",
        "    image_normalized_lapsian_scaled = (img_comb - np.min(img_comb)) / (np.max(img_comb) - np.min(img_comb))\n",
        "    image_normalized_lapsian_abs = np.abs(img_comb)\n",
        "\n",
        "    fig, axs = plt.subplots(1, 4, figsize=(15, 15))\n",
        "    axs[0].imshow(image, \"gray\")\n",
        "    axs[0].set_title(\"original\")\n",
        "    axs[0].axis(\"off\")\n",
        "    axs[1].imshow(img_comb, \"gray\")\n",
        "    axs[1].set_title(\"image_comb\")\n",
        "    axs[1].axis(\"off\")\n",
        "    axs[2].imshow(image_normalized_lapsian_scaled, \"gray\")\n",
        "    axs[2].set_title(\"image_normalized_lapsian_scaled\")\n",
        "    axs[2].axis(\"off\")\n",
        "    axs[3].imshow(image_normalized_lapsian_abs, \"gray\")\n",
        "    axs[3].set_title(\"image_normalized_lapsian_abs\")\n",
        "    axs[3].axis(\"off\")\n",
        "\n",
        "filterComb(kw, S1, S2)"
      ]
    },
    {
      "cell_type": "markdown",
      "metadata": {
        "id": "7dsJBZyluTVw"
      },
      "source": [
        "6. Istnieje alternatywna wersja filtra kombinowanego, która zamiast pierwiastka z sumy kwadratów wykorzystuje sumę modułów (prostsze obliczenia).\n",
        "Zaimplementuj tę wersję."
      ]
    },
    {
      "cell_type": "code",
      "execution_count": null,
      "metadata": {
        "scrolled": true,
        "id": "fJMIOBGnuTVw"
      },
      "outputs": [],
      "source": [
        "def filterComb2(image, mask1, mask2: np.ndarray):\n",
        "    image_1 = signal.convolve2d(image, mask1, mode=\"same\")\n",
        "    image_2 = signal.convolve2d(image, mask2, mode=\"same\")\n",
        "    img_comb = np.abs(image_1) + np.abs(image_2)\n",
        "\n",
        "    image_normalized_lapsian_scaled = (img_comb - np.min(img_comb)) / (np.max(img_comb) - np.min(img_comb))\n",
        "    image_normalized_lapsian_abs = np.abs(img_comb)\n",
        "\n",
        "    fig, axs = plt.subplots(1, 4, figsize=(15, 15))\n",
        "    axs[0].imshow(image, \"gray\")\n",
        "    axs[0].set_title(\"original\")\n",
        "    axs[0].axis(\"off\")\n",
        "    axs[1].imshow(img_comb, \"gray\")\n",
        "    axs[1].set_title(\"image_comb\")\n",
        "    axs[1].axis(\"off\")\n",
        "    axs[2].imshow(image_normalized_lapsian_scaled, \"gray\")\n",
        "    axs[2].set_title(\"image_normalized_lapsian_scaled\")\n",
        "    axs[2].axis(\"off\")\n",
        "    axs[3].imshow(image_normalized_lapsian_abs, \"gray\")\n",
        "    axs[3].set_title(\"image_normalized_lapsian_abs\")\n",
        "    axs[3].axis(\"off\")\n",
        "\n",
        "filterComb2(kw, S1, S2)"
      ]
    },
    {
      "cell_type": "markdown",
      "metadata": {
        "id": "Q-3dRwiiuTVw"
      },
      "source": [
        "7. Wczytaj plik _jet.png_ (zamiast _kw.png_).\n",
        "Sprawdź działanie obu wariantów filtracji kombinowanej."
      ]
    },
    {
      "cell_type": "code",
      "execution_count": null,
      "metadata": {
        "pycharm": {
          "name": "#%%\n"
        },
        "id": "TAm2toQRuTVw"
      },
      "outputs": [],
      "source": [
        "jet = cv2.imread(\"jet.png\", cv2.IMREAD_GRAYSCALE)\n",
        "filterComb(jet, S1, S2)\n",
        "filterComb2(jet, S1, S2)"
      ]
    }
  ],
  "metadata": {
    "celltoolbar": "Raw Cell Format",
    "kernelspec": {
      "display_name": "Python 3",
      "language": "python",
      "name": "python3"
    },
    "language_info": {
      "codemirror_mode": {
        "name": "ipython",
        "version": 3
      },
      "file_extension": ".py",
      "mimetype": "text/x-python",
      "name": "python",
      "nbconvert_exporter": "python",
      "pygments_lexer": "ipython3",
      "version": "3.7.6"
    },
    "colab": {
      "provenance": []
    }
  },
  "nbformat": 4,
  "nbformat_minor": 0
}