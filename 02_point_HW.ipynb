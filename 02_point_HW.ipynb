{
  "cells": [
    {
      "cell_type": "markdown",
      "source": [
        "# Zadanie domowe\n",
        "\n",
        "W przypadku obrazów w odcieniach szarości pojedynczy piksel z zakresu [0; 255] reprezentowany jest jako 8-bitowa liczba bez znaku.\n",
        "Pewnym rozszerzeniem analizy sposobu reprezentacji obrazu może być następujący eksperyment.\n",
        "Załóżmy, że z każdego z 8 bitów możemy stworzyć pojedynczy obraz binarny (ang. _bit-plane slicing_).\n",
        "Dla obrazka _100zloty.jpg_ (https://raw.githubusercontent.com/vision-agh/poc_sw/master/02_Point/100zloty.jpg) stwórz 8 obrazów, z których każdy powinien zawierać jedną płaszczyznę bitową.\n",
        "Podpowiedź $-$ warto sprawdzić, jak realizuje się bitowe operacje logiczne.\n",
        "Zastosowanie takiej dekompozycji obrazu pozwala na analizę ,,ważności'' poszczególnych bitów.\n",
        "Jest to użyteczne w kwantyzacji, ale także w kompresji.\n",
        "\n",
        "W drugim etapie zadania proszę spróbować odtworzyć obraz oryginalny z mniejszej liczby obrazów binarnych.\n",
        "Warto zacząć od dwóch najbardziej znaczących bitów, a później dodawać kolejne.\n",
        "Należy utworzyć co najmniej trzy wersje zrekonstruowanych obrazów.\n",
        "Podpowiedź $-$ rekonstrukcja obrazu to mnożenie przez odpowiednią potęgę liczby 2 (przesunięcie bitowe) oraz dodawanie."
      ],
      "metadata": {
        "collapsed": false,
        "id": "m5Q2hnDC3NuL"
      }
    },
    {
      "cell_type": "code",
      "source": [
        "import cv2\n",
        "import os\n",
        "import requests\n",
        "import matplotlib.pyplot as plt\n",
        "import numpy as np\n",
        "\n",
        "\n",
        "url = 'https://raw.githubusercontent.com/vision-agh/poc_sw/master/02_Point/'\n",
        "fileName = '100zloty.jpg'\n",
        "if not os.path.exists(fileName) :\n",
        "    r = requests.get(url + fileName, allow_redirects=True)\n",
        "    open(fileName, 'wb').write(r.content)\n",
        "\n",
        "img = cv2.imread(fileName, cv2.IMREAD_GRAYSCALE)\n",
        "plt.axis('off')\n",
        "plt.imshow(img, cmap = 'gray')\n",
        "plt.show()"
      ],
      "metadata": {
        "id": "tsKtFztv4T2l"
      },
      "execution_count": null,
      "outputs": []
    },
    {
      "cell_type": "code",
      "source": [
        "bit_planes = []\n",
        "for i in range(8):\n",
        "    bit_plane = (img >> i) & 1\n",
        "    bit_planes.append(bit_plane)\n",
        "    bit_plane = bit_plane * 255\n",
        "\n",
        "    plt.axis('off')\n",
        "    plt.imshow(bit_plane, cmap='gray')\n",
        "    plt.title(f'Bit plane {i}')\n",
        "    plt.show()"
      ],
      "metadata": {
        "id": "MqN06MY9nOmm"
      },
      "execution_count": null,
      "outputs": []
    },
    {
      "cell_type": "code",
      "source": [
        "MSB1 = bit_planes[-1] * (2**7)\n",
        "MSB2 = bit_planes[-2] * (2**6)\n",
        "reconstructed_image1 = MSB1 + MSB2\n",
        "plt.axis('off')\n",
        "plt.imshow(reconstructed_image1, cmap = 'gray')"
      ],
      "metadata": {
        "id": "8A-xleD2Fxc2"
      },
      "execution_count": null,
      "outputs": []
    },
    {
      "cell_type": "code",
      "source": [
        "MSB3 = bit_planes[-3] * (2**5)\n",
        "reconstructed_image2 = MSB1 + MSB2 + MSB3\n",
        "plt.axis('off')\n",
        "plt.imshow(reconstructed_image2, cmap = 'gray')"
      ],
      "metadata": {
        "id": "ibvWHfAZtSH3"
      },
      "execution_count": null,
      "outputs": []
    },
    {
      "cell_type": "code",
      "source": [
        "MSB4 = bit_planes[-4] * (2**4)\n",
        "reconstructed_image3 = MSB1 + MSB2 + MSB3 + MSB4\n",
        "plt.axis('off')\n",
        "plt.imshow(reconstructed_image3, cmap = 'gray')"
      ],
      "metadata": {
        "id": "H3INpND7nOJe"
      },
      "execution_count": null,
      "outputs": []
    },
    {
      "cell_type": "code",
      "source": [
        "LSB1 = bit_planes[0] * (2**0)\n",
        "LSB2 = bit_planes[1] * (2**1)\n",
        "reconstructed_image4 = LSB1 + LSB2\n",
        "plt.axis('off')\n",
        "plt.imshow(reconstructed_image4, cmap = 'gray')"
      ],
      "metadata": {
        "id": "b0DQpLFw-yUw"
      },
      "execution_count": null,
      "outputs": []
    },
    {
      "cell_type": "code",
      "source": [
        "LSB3 = bit_planes[2] * (2**2)\n",
        "LSB4 = bit_planes[3] * (2**3)\n",
        "reconstructed_image5 = LSB1 + LSB2 + LSB3\n",
        "plt.axis('off')\n",
        "plt.imshow(reconstructed_image5, cmap = 'gray')"
      ],
      "metadata": {
        "id": "h17MjVWhBXxc"
      },
      "execution_count": null,
      "outputs": []
    },
    {
      "cell_type": "code",
      "source": [
        "reconstracted_image6 = LSB1 + LSB2 + LSB3 + LSB4 + MSB4 + MSB3 + MSB2 + MSB1\n",
        "plt.axis('off')\n",
        "plt.imshow(reconstracted_image6, cmap = 'gray')"
      ],
      "metadata": {
        "id": "2lVLwMIyBkQF"
      },
      "execution_count": null,
      "outputs": []
    }
  ],
  "metadata": {
    "kernelspec": {
      "display_name": "Python 3",
      "language": "python",
      "name": "python3"
    },
    "language_info": {
      "codemirror_mode": {
        "name": "ipython",
        "version": 2
      },
      "file_extension": ".py",
      "mimetype": "text/x-python",
      "name": "python",
      "nbconvert_exporter": "python",
      "pygments_lexer": "ipython2",
      "version": "2.7.6"
    },
    "colab": {
      "provenance": []
    }
  },
  "nbformat": 4,
  "nbformat_minor": 0
}